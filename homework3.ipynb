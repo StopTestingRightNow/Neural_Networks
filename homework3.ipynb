{
 "cells": [
  {
   "cell_type": "markdown",
   "metadata": {},
   "source": [
    "## Практическое задание\n",
    "\n",
    "  1. Постройте нейронную сеть(берем простую линейную сеть, которую разбирали на уроке: меняем число слоев, число нейронов , типы активации, тип оптимизатора)  на датасет from sklearn.datasets import load_boston. \n",
    "  2. Измените функцию потерь и метрику для этой задачи. Постройте 10-15 вариантов и сведите результаты их работы в таблицу  Опишите, какого результата вы добились от нейросети? Что помогло вам улучшить ее точность?\n",
    "\n",
    "  3. Поработайте с документацией TensorFlow 2. Найти 2-3 полезные команды TensorFlow, не разобранные на уроке (полезные для Вас).\n",
    "\n",
    "  1-2. (*)  Попробуйте обучить нейронную сеть на TensorFlow 2 на датасете imdb_reviews .Опишите, какого результата вы добились от нейросети? Что помогло вам улучшить ее точность?\n",
    "    \n",
    "    \n",
    "</ol>\n",
    "\n",
    "\n",
    "\n",
    "## Набор данных для последнего ДЗ\n",
    "\n",
    "- COVID 19 диагностика https://www.kaggle.com/andrewmvd/covid19-ct-scans\n",
    "\n",
    "- Распознавание изображений цифр в представлении языка жестов https://www.kaggle.com/ardamavi/sign-language-digits-dataset"
   ]
  },
  {
   "cell_type": "code",
   "execution_count": 1,
   "metadata": {
    "colab": {
     "base_uri": "https://localhost:8080/"
    },
    "id": "75BVCTdbFzPa",
    "outputId": "509bdd67-f0f4-4009-d2f3-4dfba1a55372"
   },
   "outputs": [
    {
     "name": "stdout",
     "output_type": "stream",
     "text": [
      "2.9.0-dev20220318\n",
      "TensorFlow 2.0 Hello World\n"
     ]
    }
   ],
   "source": [
    "import tensorflow as tf\n",
    "print(tf.__version__)\n",
    "msg = tf.constant('TensorFlow 2.0 Hello World')\n",
    "tf.print(msg)"
   ]
  },
  {
   "cell_type": "code",
   "execution_count": 1,
   "metadata": {},
   "outputs": [],
   "source": [
    "import numpy as np"
   ]
  },
  {
   "cell_type": "code",
   "execution_count": 5,
   "metadata": {},
   "outputs": [],
   "source": [
    "from sklearn.datasets import load_boston\n",
    "from sklearn.model_selection import train_test_split"
   ]
  },
  {
   "cell_type": "code",
   "execution_count": 4,
   "metadata": {},
   "outputs": [],
   "source": [
    "X, y = load_boston(return_X_y=True)"
   ]
  },
  {
   "cell_type": "code",
   "execution_count": 10,
   "metadata": {},
   "outputs": [],
   "source": [
    "X_train, X_test, y_train, y_test = train_test_split(X, y, test_size=0.2, random_state=42)"
   ]
  },
  {
   "cell_type": "code",
   "execution_count": 11,
   "metadata": {},
   "outputs": [
    {
     "data": {
      "text/plain": [
       "(506, 13)"
      ]
     },
     "execution_count": 11,
     "metadata": {},
     "output_type": "execute_result"
    }
   ],
   "source": [
    "X.shape"
   ]
  },
  {
   "cell_type": "code",
   "execution_count": 12,
   "metadata": {
    "id": "ozb2tTqNIBzX"
   },
   "outputs": [],
   "source": [
    "from tensorflow.keras.models import Sequential\n",
    "from tensorflow.keras.layers import Dense\n",
    "from tensorflow.keras.utils import to_categorical"
   ]
  },
  {
   "cell_type": "code",
   "execution_count": 22,
   "metadata": {
    "id": "NInsePV5QKs4"
   },
   "outputs": [],
   "source": [
    "import matplotlib.pyplot as plt\n",
    "from tensorflow.keras.optimizers import Adam, SGD, RMSprop, Adagrad"
   ]
  },
  {
   "cell_type": "code",
   "execution_count": 85,
   "metadata": {},
   "outputs": [
    {
     "name": "stdout",
     "output_type": "stream",
     "text": [
      "11/11 [==============================] - 0s 900us/step - loss: 83.7701 - mean_absolute_percentage_error: 41.7063\n",
      "11/11 [==============================] - 0s 800us/step - loss: 77.4847 - mean_absolute_percentage_error: 43.1830\n",
      "11/11 [==============================] - 0s 1ms/step - loss: 49.1236 - mean_absolute_percentage_error: 29.6738\n",
      "11/11 [==============================] - 0s 1000us/step - loss: 6.1984 - mean_absolute_percentage_error: 28.5081\n",
      "11/11 [==============================] - 0s 800us/step - loss: 6.5077 - mean_absolute_percentage_error: 33.6063\n",
      "11/11 [==============================] - 0s 900us/step - loss: 6.2375 - mean_absolute_percentage_error: 34.0089\n",
      "11/11 [==============================] - 0s 800us/step - loss: 42.4821 - mean_absolute_percentage_error: 27.8036\n",
      "11/11 [==============================] - 0s 1000us/step - loss: 44.3747 - mean_absolute_percentage_error: 25.7010\n",
      "11/11 [==============================] - 0s 1ms/step - loss: 43.8862 - mean_absolute_percentage_error: 28.7247\n",
      "11/11 [==============================] - 0s 900us/step - loss: 4.2356 - mean_absolute_percentage_error: 20.8941\n",
      "11/11 [==============================] - 0s 1000us/step - loss: 4.0158 - mean_absolute_percentage_error: 22.3609\n",
      "11/11 [==============================] - 0s 1ms/step - loss: 5.5571 - mean_absolute_percentage_error: 32.0011\n",
      "11/11 [==============================] - 0s 800us/step - loss: 71.0823 - mean_absolute_percentage_error: 31.2376\n",
      "11/11 [==============================] - 0s 900us/step - loss: 34.5935 - mean_absolute_percentage_error: 20.8017\n",
      "11/11 [==============================] - 0s 1ms/step - loss: 40.5371 - mean_absolute_percentage_error: 27.6749\n",
      "11/11 [==============================] - 0s 1ms/step - loss: 4.7479 - mean_absolute_percentage_error: 27.4714\n",
      "11/11 [==============================] - 0s 897us/step - loss: 4.0609 - mean_absolute_percentage_error: 20.5808\n",
      "11/11 [==============================] - 0s 900us/step - loss: 4.3430 - mean_absolute_percentage_error: 22.8121\n"
     ]
    },
    {
     "data": {
      "text/plain": [
       "[['linear_mean_squared_error_64', 83.77010345458984, 41.706329345703125],\n",
       " ['linear_mean_squared_error_128', 77.48466491699219, 43.18302917480469],\n",
       " ['linear_mean_squared_error_256', 49.12360382080078, 29.673818588256836],\n",
       " ['linear_mean_absolute_error_64', 6.198370456695557, 28.50806427001953],\n",
       " ['linear_mean_absolute_error_128', 6.507707118988037, 33.606300354003906],\n",
       " ['linear_mean_absolute_error_256', 6.237456798553467, 34.0089111328125],\n",
       " ['gelu_mean_squared_error_64', 42.48211669921875, 27.803604125976562],\n",
       " ['gelu_mean_squared_error_128', 44.37470245361328, 25.70102310180664],\n",
       " ['gelu_mean_squared_error_256', 43.886226654052734, 28.724712371826172],\n",
       " ['gelu_mean_absolute_error_64', 4.235622406005859, 20.894147872924805],\n",
       " ['gelu_mean_absolute_error_128', 4.015827655792236, 22.360885620117188],\n",
       " ['gelu_mean_absolute_error_256', 5.557098865509033, 32.00113296508789],\n",
       " ['relu_mean_squared_error_64', 71.0822982788086, 31.237550735473633],\n",
       " ['relu_mean_squared_error_128', 34.59352111816406, 20.801742553710938],\n",
       " ['relu_mean_squared_error_256', 40.537086486816406, 27.674880981445312],\n",
       " ['relu_mean_absolute_error_64', 4.747854709625244, 27.471406936645508],\n",
       " ['relu_mean_absolute_error_128', 4.060919761657715, 20.58077049255371],\n",
       " ['relu_mean_absolute_error_256', 4.342958927154541, 22.812118530273438]]"
      ]
     },
     "execution_count": 85,
     "metadata": {},
     "output_type": "execute_result"
    }
   ],
   "source": [
    "results = []\n",
    "\n",
    "for activf in ['linear', 'gelu', 'relu']:\n",
    "    for loss in ['mean_squared_error', 'mean_absolute_error']:\n",
    "        for neurons in [64, 128, 256]:\n",
    "            model = Sequential([\n",
    "                        Dense(neurons, activation=activf, input_shape=(13,)),\n",
    "                        Dense(neurons, activation=activf),\n",
    "                        Dense(1, activation='linear')\n",
    "            ], name=f'{activf}_{loss}_{neurons}')\n",
    "\n",
    "            model.compile(optimizer='adam',\n",
    "                          loss=loss,\n",
    "                          metrics=['mean_absolute_percentage_error'])\n",
    "            \n",
    "            model.fit( x=X_train, y=y_train, epochs=20, batch_size=100, validation_split=0.2, verbose=0)\n",
    "            evaluate = model.evaluate( x=X_test, y=y_test, batch_size=10, verbose=1 )\n",
    "            results.append([model.name,*evaluate])\n",
    "            \n",
    "results"
   ]
  },
  {
   "cell_type": "code",
   "execution_count": 95,
   "metadata": {},
   "outputs": [],
   "source": [
    "npresults=np.array(results)"
   ]
  },
  {
   "cell_type": "code",
   "execution_count": 96,
   "metadata": {},
   "outputs": [
    {
     "data": {
      "text/plain": [
       "'relu_mean_absolute_error_128'"
      ]
     },
     "execution_count": 96,
     "metadata": {},
     "output_type": "execute_result"
    }
   ],
   "source": [
    "npresults[np.argmin(npresults[:,2]),0]"
   ]
  },
  {
   "cell_type": "markdown",
   "metadata": {},
   "source": [
    "Вывод: 64 нейрона - мало, модель недообучается; 256 - уже много, переобучается. Функция активации ReLU показывает лучшие результаты, чем линейная и GELU. Функция потерь ошибки по модулю приводит к большей точности, чем функция среднеквадратичной ошибки."
   ]
  },
  {
   "cell_type": "markdown",
   "metadata": {},
   "source": [
    "Из полезного для меня в документации - весь API в стиле ООП. Мой \"родной\" ЯП - C#, мне такой синтаксис значительно удобнее."
   ]
  }
 ],
 "metadata": {
  "accelerator": "GPU",
  "colab": {
   "collapsed_sections": [],
   "name": "metodich3_colab_1_07.ipynb",
   "provenance": []
  },
  "kernelspec": {
   "display_name": "Python 3 (ipykernel)",
   "language": "python",
   "name": "python3"
  },
  "language_info": {
   "codemirror_mode": {
    "name": "ipython",
    "version": 3
   },
   "file_extension": ".py",
   "mimetype": "text/x-python",
   "name": "python",
   "nbconvert_exporter": "python",
   "pygments_lexer": "ipython3",
   "version": "3.9.7"
  }
 },
 "nbformat": 4,
 "nbformat_minor": 1
}
