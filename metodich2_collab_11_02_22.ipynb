{
 "cells": [
  {
   "cell_type": "markdown",
   "metadata": {
    "id": "XvhEhpGm9U8z"
   },
   "source": [
    "# Введение в искусственные нейронные сети\n",
    "# Урок 2. Keras"
   ]
  },
  {
   "cell_type": "markdown",
   "metadata": {
    "id": "LmKjkEH-9U84"
   },
   "source": [
    "## Содержание методического пособия:\n",
    "\n",
    "\n",
    "<ol>\n",
    "<li>Способы создания нейросетей</li>\n",
    "<li>Что такое Keras</li>\n",
    "<li>Основы синтаксиса</li>\n",
    "<li>Простая нейросеть на Keras</li>\n",
    "</ol>"
   ]
  },
  {
   "cell_type": "markdown",
   "metadata": {
    "id": "9gV6aaON9U86"
   },
   "source": [
    "## Способы создания нейросетей\n",
    "\n",
    "Нейросети это математические модели. Программирую на любом языке можно решать задачи связанные с математикой. Однако встает вопрос какой язык подойдет для этого больше? Не считая учебных нейросетей, нейросети как правило работают с большим количеством данных. Поэтому, чтобы обучение нейросетей происходило с приемлимой скоростью нужно использовать быстрый язык. Например Си. Но так как язык Си это язык с низким уровнем абстракции то программировать и модифицировать на нем нейросети было бы крайне затруднительно. \n",
    "\n",
    "Хорошо может подойти для этих целей язык Python. Так как он с одной стороны имеет высокий уровень абстракции с другой стороны операции с массивами данных могут сделать его библиотеки написанные на Си. Таким способом мы пользовались на первых 2 уроках. Однако если писать нейросети таким образом то будет много повторяющегося кода поскольку архитектуры нейросетей остаются одинаковыми и зачастую у них только меняются параметры. Кроме этого нам может понадобиться хорошо знать архитектуры самых разных нейронных сетей чтобы реализовать их вручную. Работа таким образом затруднительна для людей не имеющих достаточной подготовки, а для имеющих может быть нааборот рутиной.\n",
    "\n",
    "Существуют фреймворки для созданий нейронных сетей. Они являются, пожалуй основным рабочим способом создания нейронных сетей. Вот их неполный перечень:\n",
    "\n",
    "1. TensorFlow\n",
    "2. PyTorch\n",
    "3. Keras\n",
    "4. Microsoft Cognitive Toolkit (CNTK)\n",
    "5. Caffe\n",
    "6. Apache MXNet\n",
    "\n",
    "Упрощение создания нейронных сетей не заканчивается на этих фрейворках. Существуют инструменты которые позволяют создавать нейронные сети без навыков программирования, строя нейросети графически. Примеры: Neural Designer, Deep Learning Studio.\n",
    "\n",
    "Но и на этом не заканчиваются способы создания нейросетей. Существуют инструменты самостоятельно создающие нейронные сети. Это так называемые AutoML инструменты. Вот примеры популярных из них:\n",
    "1. MLBox\n",
    "2. TPOT\n",
    "3. Autokeras\n",
    "\n",
    "Как вы возможно заметили что все эти инструменты отранжированы походы изложения в порядке возрастания уровня абстракции. Соответсвенно говоря о плюсах минусах того или иного инструмента мы должны понимать в принципе плюсы минусы повышения уровня абстракции. Чем он выше тем меньше производительность и тем меньше его гибкость и набоорот.\n",
    "\n",
    "Как уже было сказано наиболее востребованных в рабочих целях является тот уровень абстракции, который дают фреймворки. Будем изучать дальше и пользовать ими. Остается сделать выбор среди них. Самый популярный фреймворк для создания нейросетей TensorFlow. Самый популярный для обучения - Keras. На этом уроке мы изучим с вами Keras, а на следующим TensorFlow. Также стоит отметить, что эти фреймворки взаимосвязаны - Keras как правило работает поверх TensorFlow, а сам TensorFlow позволяет пользовать средствами Keras при необходимости.\n"
   ]
  },
  {
   "cell_type": "markdown",
   "metadata": {
    "id": "b1uUklH29U88"
   },
   "source": [
    "## Что такое Keras\n",
    "\n",
    "Keras появился относительно недавно - в 2015 г. Но за это время стал одним из самых популярных фреймоворков для создания нейросетей и фактически стандартом для использования его начинающими.\n",
    "\n",
    "В чем причина его популярности? Keras позволяет создовать на высоком уровне абстракции. Т.е. на не нужно вручную реализовать с помощью математикаподобного кода те или иные элементы нейронной сети. Мы можем оперировать слоями, количеством нейронов в них, выбором функции активации и т.д. В тоже время keras содержит инструментарий для всего того, что может понадобиться для работы - например ряд встроенных датасетов, возможность обрабатывать изображения.\n",
    "\n",
    "В техническом плане Keras это оболочка над инструментами меньшей степени абстракции. На выбор он может работать поверх TensorFlow, Microsoft Cognitive Toolkit, R, Theano, PlaidML.\n",
    "\n",
    "Keras пользуется также на соревнованиях Kaggle.\n",
    "\n",
    "Однако стоит отметить, что в реальных проектах чаще используется TensorFlow, который мы будем изучать в след. уроках.\n",
    "\n",
    "Keras как и любой высокобастрактный инструмент имеет изъяны в качестве меньшей гибкостью и производительснотью чем тот же tensorflow.\n",
    "\n",
    "Стоит также отметить, что Google официально поддерживает Keras, его автор François Chollet, является сотрудником Google. TensorFlow сам в свою очередь позволяет использовать возможности Keras, т.е. в нем заложена возможность переходить на более высокой уровень абстракции.\n",
    "\n",
    "В данном уроке мы с вами рассмотрим пример обучения нейронной сети с помощью Keras. Но прежде давайте посмотрим на основы синтаксиса Keras и стандартные задачи, которые нужно выполнить при обучении нейронной сети."
   ]
  },
  {
   "cell_type": "markdown",
   "metadata": {
    "id": "iRJ_I6hu9U8-"
   },
   "source": [
    "## Основы синтаксиса"
   ]
  },
  {
   "cell_type": "markdown",
   "metadata": {
    "id": "Sars-tTz9U9A"
   },
   "source": [
    "**Установка и работа с данными**"
   ]
  },
  {
   "cell_type": "markdown",
   "metadata": {
    "id": "8w3sHXOV9U9B"
   },
   "source": [
    "Для начала необходимо установить keras. Надо полагать вы хорошо знакомы с командой pip."
   ]
  },
  {
   "cell_type": "markdown",
   "metadata": {
    "id": "05hfRCv09U9D"
   },
   "source": [
    "sudo python3 pip install keras"
   ]
  },
  {
   "cell_type": "markdown",
   "metadata": {
    "id": "EAwWzAS29U9F"
   },
   "source": [
    "Давайте попробуем получить датасет mnist и проанализировать его содержимое.\n",
    "Это еще не будет синтаксис Keras, но это часто встречающаяся задача. Не обращайте внимание на предупреждения от TensorFlow. Их часто бывает много и их можно подавить при необходимости."
   ]
  },
  {
   "cell_type": "code",
   "execution_count": 7,
   "metadata": {},
   "outputs": [
    {
     "name": "stdout",
     "output_type": "stream",
     "text": [
      "^C\n"
     ]
    }
   ],
   "source": [
    "!pip install tensorflow"
   ]
  },
  {
   "cell_type": "code",
   "execution_count": 8,
   "metadata": {
    "id": "iKgNxL4G9U9H"
   },
   "outputs": [
    {
     "name": "stdout",
     "output_type": "stream",
     "text": [
      "(60000, 28, 28)\n",
      "(60000,)\n"
     ]
    }
   ],
   "source": [
    "    import numpy as np\n",
    "    import mnist\n",
    "    import keras\n",
    "\n",
    "    # The first time you run this might be a bit slow, since the\n",
    "    # mnist package has to download and cache the data.\n",
    "    train_images = mnist.train_images()\n",
    "    train_labels = mnist.train_labels()\n",
    "\n",
    "    print(train_images.shape) # (60000, 28, 28)\n",
    "    print(train_labels.shape) # (60000,)"
   ]
  },
  {
   "cell_type": "markdown",
   "metadata": {
    "id": "F_3tRtvg9U9J"
   },
   "source": [
    "Что в данном случае мы смогли с вами узнать? Что тренировочный датасет mnist состоит из 60000 изображений 28 на 28 пикселей. Такие небольшие датасеты с маленькими изображениями встретятся вам и в других учебных датасетах."
   ]
  },
  {
   "cell_type": "markdown",
   "metadata": {
    "id": "DZiKILQd9U9L"
   },
   "source": [
    "Что нам нужно делать теперь? Если датасет не имеет разделения на тренировочный и тестовый то поделить их. В нашем случае наш тренировочный датасет состоит из 60 000 изображений и тестовый из 10 000 и они поделены по умолчанию.\n",
    "\n",
    "Нам теперь нужно конверитировать значения пикселей из вида от 1 до 255 в набор значений от -0.5 до 0.5.\n",
    "\n"
   ]
  },
  {
   "cell_type": "code",
   "execution_count": 9,
   "metadata": {
    "colab": {
     "base_uri": "https://localhost:8080/"
    },
    "id": "TQMMZ_jw9U9N",
    "outputId": "df6c26d1-fc36-4750-edbc-aaac9e7ec4a4"
   },
   "outputs": [
    {
     "name": "stdout",
     "output_type": "stream",
     "text": [
      "Downloading data from https://storage.googleapis.com/tensorflow/tf-keras-datasets/mnist.npz\n",
      "11493376/11490434 [==============================] - 1s 0us/step\n",
      "11501568/11490434 [==============================] - 1s 0us/step\n",
      "(60000, 784)\n",
      "(10000, 784)\n"
     ]
    }
   ],
   "source": [
    "import numpy as np\n",
    "#import mnist\n",
    "#import tensorflow as tf\n",
    "#import tf.kears as keras\n",
    "import keras\n",
    "from keras.datasets import mnist, boston_housing, fashion_mnist  # наборы для работы\n",
    "\n",
    "#train_images = mnist.train_images()\n",
    "#train_labels = mnist.train_labels()\n",
    "#test_images = mnist.test_images()\n",
    "#test_labels = mnist.test_labels()\n",
    "\n",
    "(train_imagesi,train_labels),(test_imagesi,testn_labels)=mnist.load_data()\n",
    "\n",
    "# Normalize the images.\n",
    "train_imagesi = (train_imagesi / 127) - 1\n",
    "test_imagesi = (test_imagesi / 127) - 1\n",
    "\n",
    "# Flatten the images.\n",
    "train_images = train_imagesi.reshape((-1, 784))\n",
    "test_images = test_imagesi.reshape((-1, 784))\n",
    "\n",
    "print(train_images.shape) # (60000, 784)\n",
    "print(test_images.shape)  # (10000, 784)"
   ]
  },
  {
   "cell_type": "code",
   "execution_count": 10,
   "metadata": {
    "colab": {
     "base_uri": "https://localhost:8080/"
    },
    "id": "haGKRAidX8XT",
    "outputId": "72b152a5-5adb-4070-ba75-009d97dd13d4"
   },
   "outputs": [
    {
     "data": {
      "text/plain": [
       "(28, 28)"
      ]
     },
     "execution_count": 10,
     "metadata": {},
     "output_type": "execute_result"
    }
   ],
   "source": [
    "n=1\n",
    "train_imagesi[n,:,:].shape"
   ]
  },
  {
   "cell_type": "code",
   "execution_count": 11,
   "metadata": {
    "colab": {
     "base_uri": "https://localhost:8080/",
     "height": 35
    },
    "id": "3fwDFMMPJDFE",
    "outputId": "a620e8cd-05f5-4bad-ae0f-87411428d10b"
   },
   "outputs": [
    {
     "data": {
      "text/plain": [
       "'tensorflow'"
      ]
     },
     "execution_count": 11,
     "metadata": {},
     "output_type": "execute_result"
    }
   ],
   "source": [
    "keras.backend.backend()"
   ]
  },
  {
   "cell_type": "code",
   "execution_count": 12,
   "metadata": {
    "id": "Jp0WM1sS1DFX"
   },
   "outputs": [],
   "source": [
    "import matplotlib.pyplot as plt"
   ]
  },
  {
   "cell_type": "code",
   "execution_count": 13,
   "metadata": {
    "colab": {
     "base_uri": "https://localhost:8080/",
     "height": 284
    },
    "id": "1GG9Z5HDEEWW",
    "outputId": "0ae1963e-8fdf-461e-95b9-ba50d9a13b17"
   },
   "outputs": [
    {
     "data": {
      "image/png": "[encoded data removed]",
      "text/plain": [
       "<Figure size 432x288 with 1 Axes>"
      ]
     },
     "metadata": {
      "needs_background": "light"
     },
     "output_type": "display_data"
    },
    {
     "name": "stdout",
     "output_type": "stream",
     "text": [
      "6\n"
     ]
    }
   ],
   "source": [
    "n = 2005\n",
    "plt.imshow(train_imagesi[n,:,:])\n",
    "plt.show()\n",
    "print(train_labels[n])"
   ]
  },
  {
   "cell_type": "code",
   "execution_count": 14,
   "metadata": {
    "colab": {
     "base_uri": "https://localhost:8080/"
    },
    "id": "t58_YKCl38rz",
    "outputId": "d65e8cf8-1b56-4f54-d59b-bcefe56ff421"
   },
   "outputs": [
    {
     "data": {
      "text/plain": [
       "array([5, 0, 4, 1, 9, 2, 1, 3, 1, 4, 3, 5], dtype=uint8)"
      ]
     },
     "execution_count": 14,
     "metadata": {},
     "output_type": "execute_result"
    }
   ],
   "source": [
    "train_labels[:12]"
   ]
  },
  {
   "cell_type": "code",
   "execution_count": 15,
   "metadata": {
    "colab": {
     "base_uri": "https://localhost:8080/"
    },
    "id": "1_Ae7niGnjb6",
    "outputId": "7b1eae13-317d-428f-9184-4cf5f078db0d"
   },
   "outputs": [
    {
     "data": {
      "text/plain": [
       "array([-1.        , -1.        , -1.        , -1.        , -1.        ,\n",
       "       -0.90551181, -0.80314961, -0.80314961, -0.80314961, -0.80314961])"
      ]
     },
     "execution_count": 15,
     "metadata": {},
     "output_type": "execute_result"
    }
   ],
   "source": [
    "train_images[202,150:160]"
   ]
  },
  {
   "cell_type": "markdown",
   "metadata": {
    "id": "Y6btW5Oz9U9W"
   },
   "source": [
    "**Создание модели**"
   ]
  },
  {
   "cell_type": "markdown",
   "metadata": {
    "id": "jgVdsO619U9Y"
   },
   "source": [
    "После первичной подготовки данных дальше как правило следует создание модели нейронной сети, которая будет учиться на этих данных.\n",
    "\n",
    "Ниже типичный код учебной нейросети - "
   ]
  },
  {
   "cell_type": "code",
   "execution_count": 21,
   "metadata": {
    "id": "rfu5k2FX9U9a"
   },
   "outputs": [],
   "source": [
    "from keras import Sequential\n",
    "from keras.layers import Dense\n",
    "# define the keras model\n",
    "model = Sequential()\n",
    "model.add(Dense(12, input_dim=8, activation='relu'))\n",
    "model.add(Dense(8, activation='relu'))\n",
    "model.add(Dense(1, activation='sigmoid'))"
   ]
  },
  {
   "cell_type": "markdown",
   "metadata": {
    "id": "lb6IkKpN9U9c"
   },
   "source": [
    "Давайте разберемся с теми командами, которые нам встетились в этом коде.\n",
    "\n",
    "Sequential - позволяет создать нейросети где слои имеют форму стека. Сигнал в них передается от одного слоя к другому. В противовес этой разновидности есть нейросети где сигнал может не сразу передаваться в следующий слой а попадать в цикл. Такие нейросети мы разберем в следующих уроках.\n",
    "\n",
    "Dense - позволяет каждому нейронну быть связанному с другим нейронном. В противовес этом может быть необходимость не делать так много связей. Неполносвязнные архитектуры мы также разберем на этом курсе, они основа компьютерного зрения.\n",
    "\n",
    "Цифры 12, 8, 1 обозначают количество нейронов в каждом конкретном слое\n",
    "\n",
    "Activation - позволяет определить формулу по которой будет активироваться нейрон."
   ]
  },
  {
   "cell_type": "markdown",
   "metadata": {
    "id": "iVWaIK2l9U9e"
   },
   "source": [
    "**Компиляция модели**\n",
    "\n",
    "На этапе компиляции модель с заданными параметрами ранее создается. Вот типичный учебный пример:"
   ]
  },
  {
   "cell_type": "code",
   "execution_count": 22,
   "metadata": {
    "id": "B6m5CF1l9U9g"
   },
   "outputs": [],
   "source": [
    "# создание keras модели\n",
    "model.compile(loss='binary_crossentropy', optimizer='adam', metrics=['accuracy'])"
   ]
  },
  {
   "cell_type": "markdown",
   "metadata": {
    "id": "IDbetrHA9U9i"
   },
   "source": [
    "Однако на этой стадии мы должны сделать еще некоторые настройки нейронной сети. Разберем команды из кода выше.\n",
    "\n",
    "loss - позволяет задать формулы по которой будет определяться степень ошибки нейронной сети.\n",
    "\n",
    "optimizer - позволяет задать алгоритм, который будет осуществлять изменения весов по всей нейронной сети (backpropagation)\n",
    "\n",
    "metrics - позволяет опредилить кретирии по которым будет оцениваться степень обученности нейросети.\n",
    "    \n",
    "    "
   ]
  },
  {
   "cell_type": "markdown",
   "metadata": {
    "id": "KH-Cy6Iy9U9l"
   },
   "source": [
    "**Передача данных для обучения нейросети**\n",
    "\n",
    "После того как нейросеть создана можно передавать ей данные для обучения. Ниже типичный пример кода для этого.\n"
   ]
  },
  {
   "cell_type": "code",
   "execution_count": 23,
   "metadata": {
    "id": "TweWbzvu9U9o"
   },
   "outputs": [
    {
     "ename": "NameError",
     "evalue": "name 'X' is not defined",
     "output_type": "error",
     "traceback": [
      "\u001b[1;31m---------------------------------------------------------------------------\u001b[0m",
      "\u001b[1;31mNameError\u001b[0m                                 Traceback (most recent call last)",
      "\u001b[1;32m~\\AppData\\Local\\Temp/ipykernel_15956/864223547.py\u001b[0m in \u001b[0;36m<module>\u001b[1;34m\u001b[0m\n\u001b[0;32m      1\u001b[0m \u001b[1;31m# передача обучающего датасета keras модели\u001b[0m\u001b[1;33m\u001b[0m\u001b[1;33m\u001b[0m\u001b[0m\n\u001b[1;32m----> 2\u001b[1;33m \u001b[0mmodel\u001b[0m\u001b[1;33m.\u001b[0m\u001b[0mfit\u001b[0m\u001b[1;33m(\u001b[0m\u001b[0mX\u001b[0m\u001b[1;33m,\u001b[0m \u001b[0my\u001b[0m\u001b[1;33m,\u001b[0m \u001b[0mepochs\u001b[0m\u001b[1;33m=\u001b[0m\u001b[1;36m150\u001b[0m\u001b[1;33m,\u001b[0m \u001b[0mbatch_size\u001b[0m\u001b[1;33m=\u001b[0m\u001b[1;36m10\u001b[0m\u001b[1;33m,\u001b[0m \u001b[0mverbose\u001b[0m\u001b[1;33m=\u001b[0m\u001b[1;36m0\u001b[0m\u001b[1;33m)\u001b[0m\u001b[1;33m\u001b[0m\u001b[1;33m\u001b[0m\u001b[0m\n\u001b[0m",
      "\u001b[1;31mNameError\u001b[0m: name 'X' is not defined"
     ]
    }
   ],
   "source": [
    "# передача обучающего датасета keras модели\n",
    "model.fit(X, y, epochs=150, batch_size=10, verbose=0)"
   ]
  },
  {
   "cell_type": "markdown",
   "metadata": {
    "id": "tFt0A6m59U9q"
   },
   "source": [
    "Разберем команды из этого примера.\n",
    "X, y - содержат все обучающие данные\n",
    "epochs - определяет сколько раз через нейросеть должен пройти весь набор данных\n",
    "bath_size - определяет количество обучающих примеров передающихся нейросети на каждой итерации обучения.\n",
    "verbose - позволяет определять информацию, котору вы видете во время обучения нейронной сети."
   ]
  },
  {
   "cell_type": "markdown",
   "metadata": {
    "id": "P7ERG-o79U9s"
   },
   "source": [
    "**Оценка обученности нейронной сети**\n",
    "\n",
    "Следующей стадией может быть проверка обученности нейронной сети. Команда Keras для этих целей - \n",
    "\n",
    "    results = model.evaluate(x_test, y_test, batch_size=128)\n",
    "    \n",
    "В данном случае мы просто указываем какую модель на каких данных мы хотим проверить"
   ]
  },
  {
   "cell_type": "markdown",
   "metadata": {
    "id": "UHT1j0AX9U9t"
   },
   "source": [
    "**Запуск нейронной сети для выполнения работы**\n",
    "\n",
    "На этой стадии мы можем попробовать запустить нейронную сеть на данных которые мы хотели бы чтобы она оценила. Осуществить распознования объекта на фотографии например.\n",
    "Вот код для этих целей - \n",
    "\n",
    "    predictions = model.predict(x_test[:3])\n",
    "    \n",
    "В качестве аргумента здесь указывается массив даныхх содержащих, например фотографию в виде массива чисел.    \n",
    "    "
   ]
  },
  {
   "cell_type": "markdown",
   "metadata": {
    "id": "LoL6FC9I9U9v"
   },
   "source": [
    "Мы с вами рассмотрели основные стадии процесса обучения нейросети и команды Keras, для этого. Безусловно здесь приведен далеко неполный перечень возможностей Keras. У Keras есть также возможность сохранять созданную нейросеть, запускать уже имеющиюся, различные средства для создания нейросетей разных архитектур и другое. С чем то из арсенала Keras мы с вами познакомимся по ходу курса, а с остальным вы можете познакомиться на сайте Keras в разделе документация."
   ]
  },
  {
   "cell_type": "markdown",
   "metadata": {
    "id": "jnUt9U3_9U9x"
   },
   "source": [
    "## Простая нейросеть на Keras"
   ]
  },
  {
   "cell_type": "markdown",
   "metadata": {
    "id": "SAa_Lfn89U9y"
   },
   "source": [
    "Давайте попрубуем сделать нейросеть на Keras использую полученные выше знания. Попробуем обучить нейросеть различать рукописные цифры."
   ]
  },
  {
   "cell_type": "code",
   "execution_count": 24,
   "metadata": {
    "id": "hf6f_oe7EH7A"
   },
   "outputs": [],
   "source": [
    "# Код нейронной сети в Keras!\n",
    "###############################\n",
    "import numpy as np\n",
    "#import mnist\n",
    "from keras.models import Sequential\n",
    "from keras.layers import Dense\n",
    "from keras.datasets import mnist\n",
    "from tensorflow.keras.utils import to_categorical\n",
    "\n"
   ]
  },
  {
   "cell_type": "markdown",
   "metadata": {
    "id": "rlO6abtO0oFX"
   },
   "source": [
    "Размер набора входных данных для обучения "
   ]
  },
  {
   "cell_type": "code",
   "execution_count": 25,
   "metadata": {
    "colab": {
     "base_uri": "https://localhost:8080/"
    },
    "id": "XLsN2KNiNHEf",
    "outputId": "3157614a-9845-44f5-eb9a-fb09095e578f"
   },
   "outputs": [
    {
     "data": {
      "text/plain": [
       "((60000, 784), (10000, 784))"
      ]
     },
     "execution_count": 25,
     "metadata": {},
     "output_type": "execute_result"
    }
   ],
   "source": [
    "train_images.shape,test_images.shape"
   ]
  },
  {
   "cell_type": "markdown",
   "metadata": {
    "id": "eHplAiIbpDLE"
   },
   "source": [
    "Собираем сеть по слоям через .add()"
   ]
  },
  {
   "cell_type": "code",
   "execution_count": 26,
   "metadata": {
    "id": "b0-xDKrNHNrv"
   },
   "outputs": [],
   "source": [
    "model1 = Sequential(name='my_model')\n",
    "model1.add(Dense(    128, activation='relu', input_shape=(784,)))  \n",
    "# входной слой + поносвязный слой из 128 нейронов с активацией ReLU\n",
    "for k in range(2):\n",
    "  model1.add(Dense(  10+(10-k)*10, activation='tanh')) \n",
    "  # Скрытый слой k из 10+(10-k)*10 нейронов с активацией tanh\n",
    "\n",
    "model1.add(Dense(10, activation='softmax')) \n",
    "# выходной слой из 10 нейронов (сколько классов, столько нейронов) + активация softmax"
   ]
  },
  {
   "cell_type": "code",
   "execution_count": 11,
   "metadata": {
    "id": "WjoJONokxO70"
   },
   "outputs": [],
   "source": [
    "#keras.losses.SparseCategoricalCrossentropy().\n",
    "#keras.losses.categorical_crossentropy()\n",
    "# keras.metrics.accuracy"
   ]
  },
  {
   "cell_type": "markdown",
   "metadata": {
    "id": "oZG48jgOpNmT"
   },
   "source": [
    "Компилируем сеть с оптимизатором , функцией потерь и метрикой:"
   ]
  },
  {
   "cell_type": "code",
   "execution_count": 27,
   "metadata": {
    "id": "6pZ5taUWHke6"
   },
   "outputs": [],
   "source": [
    "model1.compile(\n",
    "  optimizer='adam', # оптимизатор\n",
    "  loss=keras.losses.CategoricalCrossentropy(), # функция потерь\n",
    "  metrics=['accuracy'], # метрика\n",
    ") "
   ]
  },
  {
   "cell_type": "markdown",
   "metadata": {
    "id": "d9Gi-C5ddKKL"
   },
   "source": [
    "Оптимизаторы:\n",
    "* SGD() (с или без моментум)\n",
    "* RMSprop()\n",
    "* Adam()\n",
    "* Adagrad()\n",
    "…\n",
    "\n",
    "Функции потерь:\n",
    "* CategoricalCrossentropy()\n",
    "* SparseCategoricalCrossentropy()\n",
    "* BinaryCrossentropy()\n",
    "* MeanSquaredError()\n",
    "* KLDivergence()\n",
    "* CosineSimilarity()\n",
    "…\n",
    "\n",
    "Метрики:\n",
    "* CategoricalAccuracy()\n",
    "* SparseCategoricalAccuracy()\n",
    "* BinaryAccuracy()\n",
    "* AUC()\n",
    "* Precision()\n",
    "* Recall()\n",
    "…"
   ]
  },
  {
   "cell_type": "markdown",
   "metadata": {
    "id": "kaOhpafIpZ5l"
   },
   "source": [
    "ПОсмотрим из чего она состоит:"
   ]
  },
  {
   "cell_type": "code",
   "execution_count": 28,
   "metadata": {
    "colab": {
     "base_uri": "https://localhost:8080/"
    },
    "id": "MdAHcWIoE8rf",
    "outputId": "aff20409-c4cc-462c-fdba-3ed9cd0b26f4"
   },
   "outputs": [
    {
     "name": "stdout",
     "output_type": "stream",
     "text": [
      "Model: \"my_model\"\n",
      "_________________________________________________________________\n",
      " Layer (type)                Output Shape              Param #   \n",
      "=================================================================\n",
      " dense_3 (Dense)             (None, 128)               100480    \n",
      "                                                                 \n",
      " dense_4 (Dense)             (None, 110)               14190     \n",
      "                                                                 \n",
      " dense_5 (Dense)             (None, 100)               11100     \n",
      "                                                                 \n",
      " dense_6 (Dense)             (None, 10)                1010      \n",
      "                                                                 \n",
      "=================================================================\n",
      "Total params: 126,780\n",
      "Trainable params: 126,780\n",
      "Non-trainable params: 0\n",
      "_________________________________________________________________\n"
     ]
    }
   ],
   "source": [
    "model1.summary()"
   ]
  },
  {
   "cell_type": "markdown",
   "metadata": {
    "id": "i2YcWu0upeWi"
   },
   "source": [
    "126 780 параметров в сети. Все будем обучать.\n",
    "\n",
    "Как считать параметры слоя: (число входов нейрона +1)*число нейронов\n",
    "\n",
    "\n",
    "Например, для 5 входов и 10 нейронов в слое - число настраиваемых параметров = (5+1)*10 = 60"
   ]
  },
  {
   "cell_type": "markdown",
   "metadata": {
    "id": "f-drP8y5USej"
   },
   "source": [
    "Еще один способ создать линейную модель"
   ]
  },
  {
   "cell_type": "code",
   "execution_count": 29,
   "metadata": {
    "id": "vT7VLh_SEcZS"
   },
   "outputs": [],
   "source": [
    "\n",
    "# Build the model.\n",
    "model = Sequential([\n",
    "  Dense(128, activation='tanh', input_shape=(784,)),\n",
    "  Dense(110, activation='tanh'), # Скрытый слой из 110 нейронов с активацией tanh\n",
    "  Dense(100, activation='tanh'), # Скрытый слой k из 100 нейронов с активацией tanh\n",
    "  Dense(10, activation='softmax'),# выходной слой из 10 нейронов (сколько классов, столько нейронов) + активация softmax\n",
    "])\n",
    "\n",
    "# Compile the model.\n",
    "model.compile(\n",
    "  optimizer='adam',\n",
    "  loss='categorical_crossentropy',\n",
    "  metrics=['accuracy'],\n",
    ")"
   ]
  },
  {
   "cell_type": "code",
   "execution_count": 30,
   "metadata": {
    "colab": {
     "base_uri": "https://localhost:8080/"
    },
    "id": "O5DOd_RAGZHQ",
    "outputId": "80b06ed9-2f6a-4492-dfdc-72834efa620d"
   },
   "outputs": [
    {
     "name": "stdout",
     "output_type": "stream",
     "text": [
      "Model: \"sequential_2\"\n",
      "_________________________________________________________________\n",
      " Layer (type)                Output Shape              Param #   \n",
      "=================================================================\n",
      " dense_7 (Dense)             (None, 128)               100480    \n",
      "                                                                 \n",
      " dense_8 (Dense)             (None, 110)               14190     \n",
      "                                                                 \n",
      " dense_9 (Dense)             (None, 100)               11100     \n",
      "                                                                 \n",
      " dense_10 (Dense)            (None, 10)                1010      \n",
      "                                                                 \n",
      "=================================================================\n",
      "Total params: 126,780\n",
      "Trainable params: 126,780\n",
      "Non-trainable params: 0\n",
      "_________________________________________________________________\n"
     ]
    }
   ],
   "source": [
    "model.summary()"
   ]
  },
  {
   "cell_type": "markdown",
   "metadata": {
    "id": "D-ZKLY37Ulq7"
   },
   "source": [
    "Можно подсмотреть как наша модель описана после ее создания"
   ]
  },
  {
   "cell_type": "code",
   "execution_count": 31,
   "metadata": {
    "colab": {
     "base_uri": "https://localhost:8080/"
    },
    "id": "p8zwmaHKzVUH",
    "outputId": "2d9c68f2-e465-4bf5-996f-228b089d6204"
   },
   "outputs": [
    {
     "data": {
      "text/plain": [
       "{'name': 'sequential_2',\n",
       " 'layers': [{'class_name': 'InputLayer',\n",
       "   'config': {'batch_input_shape': (None, 784),\n",
       "    'dtype': 'float32',\n",
       "    'sparse': False,\n",
       "    'ragged': False,\n",
       "    'name': 'dense_7_input'}},\n",
       "  {'class_name': 'Dense',\n",
       "   'config': {'name': 'dense_7',\n",
       "    'trainable': True,\n",
       "    'batch_input_shape': (None, 784),\n",
       "    'dtype': 'float32',\n",
       "    'units': 128,\n",
       "    'activation': 'tanh',\n",
       "    'use_bias': True,\n",
       "    'kernel_initializer': {'class_name': 'GlorotUniform',\n",
       "     'config': {'seed': None}},\n",
       "    'bias_initializer': {'class_name': 'Zeros', 'config': {}},\n",
       "    'kernel_regularizer': None,\n",
       "    'bias_regularizer': None,\n",
       "    'activity_regularizer': None,\n",
       "    'kernel_constraint': None,\n",
       "    'bias_constraint': None}},\n",
       "  {'class_name': 'Dense',\n",
       "   'config': {'name': 'dense_8',\n",
       "    'trainable': True,\n",
       "    'dtype': 'float32',\n",
       "    'units': 110,\n",
       "    'activation': 'tanh',\n",
       "    'use_bias': True,\n",
       "    'kernel_initializer': {'class_name': 'GlorotUniform',\n",
       "     'config': {'seed': None}},\n",
       "    'bias_initializer': {'class_name': 'Zeros', 'config': {}},\n",
       "    'kernel_regularizer': None,\n",
       "    'bias_regularizer': None,\n",
       "    'activity_regularizer': None,\n",
       "    'kernel_constraint': None,\n",
       "    'bias_constraint': None}},\n",
       "  {'class_name': 'Dense',\n",
       "   'config': {'name': 'dense_9',\n",
       "    'trainable': True,\n",
       "    'dtype': 'float32',\n",
       "    'units': 100,\n",
       "    'activation': 'tanh',\n",
       "    'use_bias': True,\n",
       "    'kernel_initializer': {'class_name': 'GlorotUniform',\n",
       "     'config': {'seed': None}},\n",
       "    'bias_initializer': {'class_name': 'Zeros', 'config': {}},\n",
       "    'kernel_regularizer': None,\n",
       "    'bias_regularizer': None,\n",
       "    'activity_regularizer': None,\n",
       "    'kernel_constraint': None,\n",
       "    'bias_constraint': None}},\n",
       "  {'class_name': 'Dense',\n",
       "   'config': {'name': 'dense_10',\n",
       "    'trainable': True,\n",
       "    'dtype': 'float32',\n",
       "    'units': 10,\n",
       "    'activation': 'softmax',\n",
       "    'use_bias': True,\n",
       "    'kernel_initializer': {'class_name': 'GlorotUniform',\n",
       "     'config': {'seed': None}},\n",
       "    'bias_initializer': {'class_name': 'Zeros', 'config': {}},\n",
       "    'kernel_regularizer': None,\n",
       "    'bias_regularizer': None,\n",
       "    'activity_regularizer': None,\n",
       "    'kernel_constraint': None,\n",
       "    'bias_constraint': None}}]}"
      ]
     },
     "execution_count": 31,
     "metadata": {},
     "output_type": "execute_result"
    }
   ],
   "source": [
    "model.get_config()"
   ]
  },
  {
   "cell_type": "markdown",
   "metadata": {
    "id": "Og3zBOXKUt6Q"
   },
   "source": [
    "Превратим выходы в векторые (OHE в keras - from keras.utils import to_categorical)"
   ]
  },
  {
   "cell_type": "code",
   "execution_count": 32,
   "metadata": {
    "colab": {
     "base_uri": "https://localhost:8080/"
    },
    "id": "r4vfB93ZMa7k",
    "outputId": "35235d8c-4fdd-4adf-be83-59df7370ca42"
   },
   "outputs": [
    {
     "data": {
      "text/plain": [
       "array([5, 0, 4, 1, 9], dtype=uint8)"
      ]
     },
     "execution_count": 32,
     "metadata": {},
     "output_type": "execute_result"
    }
   ],
   "source": [
    "train_labels[:5]"
   ]
  },
  {
   "cell_type": "code",
   "execution_count": 33,
   "metadata": {
    "id": "fXgYOrUwGwzG"
   },
   "outputs": [],
   "source": [
    "y_t = to_categorical( train_labels)\n",
    "y_tt = to_categorical(testn_labels)"
   ]
  },
  {
   "cell_type": "code",
   "execution_count": 34,
   "metadata": {
    "colab": {
     "base_uri": "https://localhost:8080/"
    },
    "id": "HWKHT3kpG6yw",
    "outputId": "e1406ad9-bbc8-483e-8125-5b15ac357d01"
   },
   "outputs": [
    {
     "data": {
      "text/plain": [
       "array([[0., 0., 0., 0., 0., 1., 0., 0., 0., 0.],\n",
       "       [1., 0., 0., 0., 0., 0., 0., 0., 0., 0.],\n",
       "       [0., 0., 0., 0., 1., 0., 0., 0., 0., 0.]], dtype=float32)"
      ]
     },
     "execution_count": 34,
     "metadata": {},
     "output_type": "execute_result"
    }
   ],
   "source": [
    "y_t[:3,:]"
   ]
  },
  {
   "cell_type": "code",
   "execution_count": 35,
   "metadata": {
    "colab": {
     "base_uri": "https://localhost:8080/"
    },
    "id": "13v9kMf5Ouq_",
    "outputId": "959053db-ea43-45c0-c4dd-e4502405e51e"
   },
   "outputs": [
    {
     "data": {
      "text/plain": [
       "array([5, 0, 4, 1, 9], dtype=uint8)"
      ]
     },
     "execution_count": 35,
     "metadata": {},
     "output_type": "execute_result"
    }
   ],
   "source": [
    "train_labels[:5]"
   ]
  },
  {
   "cell_type": "markdown",
   "metadata": {
    "id": "Xk1EavOKVBqI"
   },
   "source": [
    "Посмотрим на реакции модели до обучения - уже можно:)"
   ]
  },
  {
   "cell_type": "code",
   "execution_count": 36,
   "metadata": {
    "id": "x6q31tJQLuol"
   },
   "outputs": [],
   "source": [
    "y_pred = model.predict(test_images[:5,:])"
   ]
  },
  {
   "cell_type": "code",
   "execution_count": 37,
   "metadata": {
    "colab": {
     "base_uri": "https://localhost:8080/"
    },
    "id": "qM07Ce8IMKPh",
    "outputId": "5fe44466-6365-49fe-fe3f-9779d17699af"
   },
   "outputs": [
    {
     "data": {
      "text/plain": [
       "array([0.08765814, 0.07318316, 0.1056689 , 0.20657192, 0.18403693,\n",
       "       0.12308551, 0.03341379, 0.05597841, 0.1123097 , 0.01809356],\n",
       "      dtype=float32)"
      ]
     },
     "execution_count": 37,
     "metadata": {},
     "output_type": "execute_result"
    }
   ],
   "source": [
    "y_pred[0,:]"
   ]
  },
  {
   "cell_type": "code",
   "execution_count": 38,
   "metadata": {
    "colab": {
     "base_uri": "https://localhost:8080/"
    },
    "id": "iFZ8fTdWL-2x",
    "outputId": "5185cf70-2985-4861-e4cd-d1eb46322075"
   },
   "outputs": [
    {
     "name": "stdout",
     "output_type": "stream",
     "text": [
      "[3 3 3 8 3]\n"
     ]
    }
   ],
   "source": [
    "y_class = np.argmax(y_pred, axis=1)\n",
    "print(y_class) # [7, 2, 1, 0, 4]"
   ]
  },
  {
   "cell_type": "code",
   "execution_count": 39,
   "metadata": {
    "colab": {
     "base_uri": "https://localhost:8080/",
     "height": 281
    },
    "id": "4XpTnd6bO2lt",
    "outputId": "f0011bde-7805-4711-d6a2-0c0b0f9bde3b"
   },
   "outputs": [
    {
     "data": {
      "image/png": "[encoded data removed]",
      "text/plain": [
       "<Figure size 432x288 with 1 Axes>"
      ]
     },
     "metadata": {
      "needs_background": "light"
     },
     "output_type": "display_data"
    }
   ],
   "source": [
    "n = 1\n",
    "plt.imshow(test_imagesi[n,:,:])\n",
    "plt.title('цифра - '+str(y_class[n]))\n",
    "plt.show()"
   ]
  },
  {
   "cell_type": "markdown",
   "metadata": {
    "id": "emVGoAdNVSK-"
   },
   "source": [
    "Сделаем цикл тренировки модели"
   ]
  },
  {
   "cell_type": "code",
   "execution_count": 40,
   "metadata": {
    "colab": {
     "base_uri": "https://localhost:8080/"
    },
    "id": "9lCF4zXv9U90",
    "outputId": "3b27b71d-b14c-4c5b-bb0f-144daa539a49"
   },
   "outputs": [
    {
     "name": "stdout",
     "output_type": "stream",
     "text": [
      "Epoch 1/2\n",
      "1500/1500 [==============================] - 3s 2ms/step - loss: 0.3181 - accuracy: 0.9034 - val_loss: 0.2311 - val_accuracy: 0.9234\n",
      "Epoch 2/2\n",
      "1500/1500 [==============================] - 2s 2ms/step - loss: 0.1651 - accuracy: 0.9487 - val_loss: 0.1441 - val_accuracy: 0.9567\n",
      "313/313 [==============================] - 1s 1ms/step - loss: 0.1465 - accuracy: 0.9552\n",
      "[3 3 3 8 3]\n",
      "[7 2 1 0 4]\n"
     ]
    }
   ],
   "source": [
    "\n",
    "# Train the model.\n",
    "model1.fit(    \n",
    "  train_images[:,:],\n",
    "\n",
    "  y_t[:,:],\n",
    "  epochs=2,\n",
    "  batch_size=32, validation_split=0.2\n",
    ")\n",
    "\n",
    "# Evaluate the model.\n",
    "model1.evaluate( \n",
    "  test_images,\n",
    "  y_tt\n",
    ")\n",
    "\n",
    "# Predict on the first 5 test images.\n",
    "predictions = model.predict(test_images[:5])\n",
    "\n",
    "# Print our model's predictions.\n",
    "print(np.argmax(predictions, axis=1)) # [7, 2, 1, 0, 4]\n",
    "\n",
    "# Check our predictions against the ground truths.\n",
    "print(testn_labels[:5]) # [7, 2, 1, 0, 4]"
   ]
  },
  {
   "cell_type": "markdown",
   "metadata": {
    "id": "CUndBqeOVY1_"
   },
   "source": [
    "И можем еще один добавить (продолжаем от предществующего состояния)"
   ]
  },
  {
   "cell_type": "code",
   "execution_count": 41,
   "metadata": {
    "colab": {
     "base_uri": "https://localhost:8080/"
    },
    "id": "z3Qc2u0mHfBJ",
    "outputId": "f95aefc9-b4aa-40a2-977f-11b578991574"
   },
   "outputs": [
    {
     "name": "stdout",
     "output_type": "stream",
     "text": [
      "Epoch 1/15\n",
      "47/47 [==============================] - 1s 16ms/step - loss: 0.7916 - accuracy: 0.7764 - val_loss: 0.3305 - val_accuracy: 0.9053\n",
      "Epoch 2/15\n",
      "47/47 [==============================] - 1s 13ms/step - loss: 0.2966 - accuracy: 0.9133 - val_loss: 0.2422 - val_accuracy: 0.9290\n",
      "Epoch 3/15\n",
      "47/47 [==============================] - 0s 8ms/step - loss: 0.2246 - accuracy: 0.9339 - val_loss: 0.1911 - val_accuracy: 0.9454\n",
      "Epoch 4/15\n",
      "47/47 [==============================] - 0s 6ms/step - loss: 0.1755 - accuracy: 0.9484 - val_loss: 0.1603 - val_accuracy: 0.9550\n",
      "Epoch 5/15\n",
      "47/47 [==============================] - 0s 6ms/step - loss: 0.1446 - accuracy: 0.9576 - val_loss: 0.1392 - val_accuracy: 0.9609\n",
      "Epoch 6/15\n",
      "47/47 [==============================] - 0s 6ms/step - loss: 0.1200 - accuracy: 0.9648 - val_loss: 0.1293 - val_accuracy: 0.9632\n",
      "Epoch 7/15\n",
      "47/47 [==============================] - 0s 6ms/step - loss: 0.1041 - accuracy: 0.9694 - val_loss: 0.1172 - val_accuracy: 0.9645\n",
      "Epoch 8/15\n",
      "47/47 [==============================] - 0s 6ms/step - loss: 0.0911 - accuracy: 0.9735 - val_loss: 0.1146 - val_accuracy: 0.9655\n",
      "Epoch 9/15\n",
      "47/47 [==============================] - 0s 6ms/step - loss: 0.0809 - accuracy: 0.9765 - val_loss: 0.1081 - val_accuracy: 0.9677\n",
      "Epoch 10/15\n",
      "47/47 [==============================] - 0s 6ms/step - loss: 0.0696 - accuracy: 0.9801 - val_loss: 0.1011 - val_accuracy: 0.9695\n",
      "Epoch 11/15\n",
      "47/47 [==============================] - 0s 6ms/step - loss: 0.0615 - accuracy: 0.9825 - val_loss: 0.1086 - val_accuracy: 0.9670\n",
      "Epoch 12/15\n",
      "47/47 [==============================] - 0s 6ms/step - loss: 0.0526 - accuracy: 0.9852 - val_loss: 0.0972 - val_accuracy: 0.9706\n",
      "Epoch 13/15\n",
      "47/47 [==============================] - 0s 6ms/step - loss: 0.0453 - accuracy: 0.9880 - val_loss: 0.0949 - val_accuracy: 0.9723\n",
      "Epoch 14/15\n",
      "47/47 [==============================] - 0s 6ms/step - loss: 0.0407 - accuracy: 0.9890 - val_loss: 0.0967 - val_accuracy: 0.9720\n",
      "Epoch 15/15\n",
      "47/47 [==============================] - 0s 6ms/step - loss: 0.0376 - accuracy: 0.9896 - val_loss: 0.0973 - val_accuracy: 0.9709\n"
     ]
    },
    {
     "data": {
      "text/plain": [
       "<keras.callbacks.History at 0x2b08afb3a60>"
      ]
     },
     "execution_count": 41,
     "metadata": {},
     "output_type": "execute_result"
    }
   ],
   "source": [
    "model.fit(\n",
    "  train_images,\n",
    "  y_t,\n",
    "  epochs=15,\n",
    "  batch_size=1024, validation_split=0.2\n",
    ")"
   ]
  },
  {
   "cell_type": "markdown",
   "metadata": {
    "id": "EpxXh0NiVg8p"
   },
   "source": [
    "Сохраним модель на диск"
   ]
  },
  {
   "cell_type": "code",
   "execution_count": 42,
   "metadata": {
    "id": "He1a5EemElpX"
   },
   "outputs": [],
   "source": [
    "# сохранить веса модели.\n",
    "model.save_weights('model.h5')\n",
    "\n",
    "# загрузить веса модели:\n",
    "# model.load_weights('model.h5')\n"
   ]
  },
  {
   "cell_type": "markdown",
   "metadata": {
    "id": "P5MHvkloVkqj"
   },
   "source": [
    "И еще тренируем (вторую модель)"
   ]
  },
  {
   "cell_type": "code",
   "execution_count": 43,
   "metadata": {
    "colab": {
     "base_uri": "https://localhost:8080/"
    },
    "id": "1koJ2ivjLOrO",
    "outputId": "d7f19fd7-2c79-4715-b0d6-e0e732844ade"
   },
   "outputs": [
    {
     "name": "stdout",
     "output_type": "stream",
     "text": [
      "Epoch 1/15\n",
      "47/47 [==============================] - 0s 7ms/step - loss: 0.0981 - accuracy: 0.9699 - val_loss: 0.1053 - val_accuracy: 0.9688\n",
      "Epoch 2/15\n",
      "47/47 [==============================] - 0s 6ms/step - loss: 0.0785 - accuracy: 0.9761 - val_loss: 0.1003 - val_accuracy: 0.9705\n",
      "Epoch 3/15\n",
      "47/47 [==============================] - 0s 6ms/step - loss: 0.0729 - accuracy: 0.9784 - val_loss: 0.0974 - val_accuracy: 0.9716\n",
      "Epoch 4/15\n",
      "47/47 [==============================] - 0s 6ms/step - loss: 0.0693 - accuracy: 0.9793 - val_loss: 0.0961 - val_accuracy: 0.9713\n",
      "Epoch 5/15\n",
      "47/47 [==============================] - 0s 6ms/step - loss: 0.0665 - accuracy: 0.9807 - val_loss: 0.0940 - val_accuracy: 0.9718\n",
      "Epoch 6/15\n",
      "47/47 [==============================] - 0s 6ms/step - loss: 0.0635 - accuracy: 0.9814 - val_loss: 0.0938 - val_accuracy: 0.9712\n",
      "Epoch 7/15\n",
      "47/47 [==============================] - 0s 6ms/step - loss: 0.0612 - accuracy: 0.9816 - val_loss: 0.0920 - val_accuracy: 0.9718\n",
      "Epoch 8/15\n",
      "47/47 [==============================] - 0s 6ms/step - loss: 0.0593 - accuracy: 0.9827 - val_loss: 0.0921 - val_accuracy: 0.9721\n",
      "Epoch 9/15\n",
      "47/47 [==============================] - 0s 6ms/step - loss: 0.0572 - accuracy: 0.9832 - val_loss: 0.0912 - val_accuracy: 0.9730\n",
      "Epoch 10/15\n",
      "47/47 [==============================] - 0s 6ms/step - loss: 0.0552 - accuracy: 0.9843 - val_loss: 0.0902 - val_accuracy: 0.9724\n",
      "Epoch 11/15\n",
      "47/47 [==============================] - 0s 6ms/step - loss: 0.0534 - accuracy: 0.9846 - val_loss: 0.0905 - val_accuracy: 0.9720\n",
      "Epoch 12/15\n",
      "47/47 [==============================] - 0s 6ms/step - loss: 0.0517 - accuracy: 0.9853 - val_loss: 0.0895 - val_accuracy: 0.9733\n",
      "Epoch 13/15\n",
      "47/47 [==============================] - 0s 6ms/step - loss: 0.0500 - accuracy: 0.9859 - val_loss: 0.0887 - val_accuracy: 0.9732\n",
      "Epoch 14/15\n",
      "47/47 [==============================] - 0s 6ms/step - loss: 0.0485 - accuracy: 0.9863 - val_loss: 0.0879 - val_accuracy: 0.9737\n",
      "Epoch 15/15\n",
      "47/47 [==============================] - 0s 6ms/step - loss: 0.0471 - accuracy: 0.9866 - val_loss: 0.0874 - val_accuracy: 0.9740\n",
      "313/313 [==============================] - 0s 1ms/step - loss: 0.0856 - accuracy: 0.9745\n",
      "[7 2 1 0 4]\n",
      "[7 2 1 0 4]\n"
     ]
    }
   ],
   "source": [
    "\n",
    "# Train the model. Вернем результаты по потерям и метрикам для всех эпох в hh \n",
    "hh = model1.fit( \n",
    "  train_images,\n",
    "  to_categorical(train_labels),\n",
    "  epochs=15,\n",
    "  batch_size=1024, validation_split=0.2\n",
    ")\n",
    "\n",
    "# Evaluate the model.\n",
    "model1.evaluate(\n",
    "  test_images,\n",
    "  to_categorical(testn_labels)\n",
    ")\n",
    "\n",
    "# Predict on the first 5 test images.\n",
    "predictions = model1.predict(test_images[:5])\n",
    "\n",
    "# Print our model's predictions.\n",
    "print(np.argmax(predictions, axis=1)) # [7, 2, 1, 0, 4]\n",
    "\n",
    "# Check our predictions against the ground truths.\n",
    "print(testn_labels[:5]) # [7, 2, 1, 0, 4]"
   ]
  },
  {
   "cell_type": "markdown",
   "metadata": {
    "id": "Ckh_q63TvAja"
   },
   "source": [
    "Посмотрим на возвращаемый словарь hh.history (там результаты по эпохам для потерь и метрик по обучению и тестам)"
   ]
  },
  {
   "cell_type": "code",
   "execution_count": 44,
   "metadata": {
    "colab": {
     "base_uri": "https://localhost:8080/"
    },
    "id": "myewLXE4KTZ6",
    "outputId": "a597a171-0c37-4c32-d758-a6c88ec75f23"
   },
   "outputs": [
    {
     "data": {
      "text/plain": [
       "{'loss': [0.09812487661838531,\n",
       "  0.07849258929491043,\n",
       "  0.07294848561286926,\n",
       "  0.06926941871643066,\n",
       "  0.0664735808968544,\n",
       "  0.06353742629289627,\n",
       "  0.06124914437532425,\n",
       "  0.05931307002902031,\n",
       "  0.05721300095319748,\n",
       "  0.05521572381258011,\n",
       "  0.05344509333372116,\n",
       "  0.051705628633499146,\n",
       "  0.0500272661447525,\n",
       "  0.048478689044713974,\n",
       "  0.04706697165966034],\n",
       " 'accuracy': [0.9699166417121887,\n",
       "  0.9760833382606506,\n",
       "  0.9784166812896729,\n",
       "  0.9792708158493042,\n",
       "  0.9807291626930237,\n",
       "  0.9813958406448364,\n",
       "  0.9816458225250244,\n",
       "  0.9827499985694885,\n",
       "  0.9832083582878113,\n",
       "  0.984291672706604,\n",
       "  0.9846458435058594,\n",
       "  0.9853333234786987,\n",
       "  0.9859374761581421,\n",
       "  0.9862916469573975,\n",
       "  0.9866250157356262],\n",
       " 'val_loss': [0.1053043082356453,\n",
       "  0.10027897357940674,\n",
       "  0.09738640487194061,\n",
       "  0.09606810659170151,\n",
       "  0.09402037411928177,\n",
       "  0.09381000697612762,\n",
       "  0.09196958690881729,\n",
       "  0.09207918494939804,\n",
       "  0.09116282314062119,\n",
       "  0.09019942581653595,\n",
       "  0.0904814824461937,\n",
       "  0.08951449394226074,\n",
       "  0.08874179422855377,\n",
       "  0.08794422447681427,\n",
       "  0.0874442309141159],\n",
       " 'val_accuracy': [0.96875,\n",
       "  0.9704999923706055,\n",
       "  0.9715833067893982,\n",
       "  0.9713333249092102,\n",
       "  0.971750020980835,\n",
       "  0.9712499976158142,\n",
       "  0.971750020980835,\n",
       "  0.972083330154419,\n",
       "  0.9729999899864197,\n",
       "  0.9724166393280029,\n",
       "  0.972000002861023,\n",
       "  0.9733333587646484,\n",
       "  0.9731666445732117,\n",
       "  0.9736666679382324,\n",
       "  0.9739999771118164]}"
      ]
     },
     "execution_count": 44,
     "metadata": {},
     "output_type": "execute_result"
    }
   ],
   "source": [
    "hh.history"
   ]
  },
  {
   "cell_type": "markdown",
   "metadata": {
    "id": "lJpjFH7hVw8Q"
   },
   "source": [
    "Покажем как выглядит кривая обучения"
   ]
  },
  {
   "cell_type": "code",
   "execution_count": 45,
   "metadata": {
    "colab": {
     "base_uri": "https://localhost:8080/",
     "height": 458
    },
    "id": "5fBO1Yh2PyIK",
    "outputId": "999b7139-8be4-4868-bc9c-cd8b2e46977d"
   },
   "outputs": [
    {
     "data": {
      "image/png": "[encoded data removed]",
      "text/plain": [
       "<Figure size 1080x504 with 1 Axes>"
      ]
     },
     "metadata": {
      "needs_background": "light"
     },
     "output_type": "display_data"
    }
   ],
   "source": [
    "plt.figure(figsize=(15,7))\n",
    "plt.plot(hh.history['loss'], label = 'потери для тренировки')\n",
    "plt.plot(hh.history['val_loss'], label = 'потери для валидации')\n",
    "plt.xlabel('эпох')\n",
    "plt.ylabel('loss')\n",
    "plt.legend()\n",
    "plt.grid('On')\n",
    "plt.title('потери от эпох')\n",
    "plt.show()\n"
   ]
  },
  {
   "cell_type": "code",
   "execution_count": 46,
   "metadata": {
    "colab": {
     "base_uri": "https://localhost:8080/"
    },
    "id": "6qh30hSNwohn",
    "outputId": "dfefd416-f99b-4a4e-956a-1c1a1e5543ec"
   },
   "outputs": [
    {
     "data": {
      "text/plain": [
       "{'loss': [0.09812487661838531,\n",
       "  0.07849258929491043,\n",
       "  0.07294848561286926,\n",
       "  0.06926941871643066,\n",
       "  0.0664735808968544,\n",
       "  0.06353742629289627,\n",
       "  0.06124914437532425,\n",
       "  0.05931307002902031,\n",
       "  0.05721300095319748,\n",
       "  0.05521572381258011,\n",
       "  0.05344509333372116,\n",
       "  0.051705628633499146,\n",
       "  0.0500272661447525,\n",
       "  0.048478689044713974,\n",
       "  0.04706697165966034],\n",
       " 'accuracy': [0.9699166417121887,\n",
       "  0.9760833382606506,\n",
       "  0.9784166812896729,\n",
       "  0.9792708158493042,\n",
       "  0.9807291626930237,\n",
       "  0.9813958406448364,\n",
       "  0.9816458225250244,\n",
       "  0.9827499985694885,\n",
       "  0.9832083582878113,\n",
       "  0.984291672706604,\n",
       "  0.9846458435058594,\n",
       "  0.9853333234786987,\n",
       "  0.9859374761581421,\n",
       "  0.9862916469573975,\n",
       "  0.9866250157356262],\n",
       " 'val_loss': [0.1053043082356453,\n",
       "  0.10027897357940674,\n",
       "  0.09738640487194061,\n",
       "  0.09606810659170151,\n",
       "  0.09402037411928177,\n",
       "  0.09381000697612762,\n",
       "  0.09196958690881729,\n",
       "  0.09207918494939804,\n",
       "  0.09116282314062119,\n",
       "  0.09019942581653595,\n",
       "  0.0904814824461937,\n",
       "  0.08951449394226074,\n",
       "  0.08874179422855377,\n",
       "  0.08794422447681427,\n",
       "  0.0874442309141159],\n",
       " 'val_accuracy': [0.96875,\n",
       "  0.9704999923706055,\n",
       "  0.9715833067893982,\n",
       "  0.9713333249092102,\n",
       "  0.971750020980835,\n",
       "  0.9712499976158142,\n",
       "  0.971750020980835,\n",
       "  0.972083330154419,\n",
       "  0.9729999899864197,\n",
       "  0.9724166393280029,\n",
       "  0.972000002861023,\n",
       "  0.9733333587646484,\n",
       "  0.9731666445732117,\n",
       "  0.9736666679382324,\n",
       "  0.9739999771118164]}"
      ]
     },
     "execution_count": 46,
     "metadata": {},
     "output_type": "execute_result"
    }
   ],
   "source": [
    "hh.history"
   ]
  },
  {
   "cell_type": "markdown",
   "metadata": {
    "id": "a8zh5g-GBQIp"
   },
   "source": [
    "Эксперимент с разными оптимизаторами для одной начальной модели:\n",
    "\n",
    "  - создаем модель model\n",
    "  - сохраняем ее веса (это начальная точка) model.save_weights('model.h5')\n",
    "  - создаем рабочую модель modeli куда будем загружать эти вес (она должна быть идентичной структуры) \n",
    "  - загружаем веса modeli.load_weights('model.h5')\n",
    "  - компилируем modeli с одним из оптимизаторов\n",
    "  - вычисляем ошибку для modeli без обучения (т.к. все модели начинают с одной точки, то все ошибки должны быть одинаковые, но будем контролировать это и считаем каждый раз заново)\n",
    "  - проводим обучение модели и пишем ошибки в истории hh\n",
    "  - выводим ошибки для 0-го момента и каждой эпохи обучения по тестовой и валидационной частям данных\n",
    "\n",
    "\n",
    "\n",
    "Оптимизаторы:\n",
    "* SGD() (с или без моментум)\n",
    "* RMSprop()\n",
    "* Adam()\n",
    "* Adagrad()\n",
    "…\n"
   ]
  },
  {
   "cell_type": "code",
   "execution_count": 47,
   "metadata": {
    "colab": {
     "base_uri": "https://localhost:8080/",
     "height": 458
    },
    "id": "jaqCLGg3w_Nl",
    "outputId": "b9e4fe25-e2a3-4117-bef5-8400ab366325"
   },
   "outputs": [
    {
     "data": {
      "image/png": "[encoded data removed]",
      "text/plain": [
       "<Figure size 1152x504 with 1 Axes>"
      ]
     },
     "metadata": {
      "needs_background": "light"
     },
     "output_type": "display_data"
    }
   ],
   "source": [
    "# создаем модель model\n",
    "model = Sequential([\n",
    "                      Dense( 64, activation='relu', input_shape=(784,)),\n",
    "                      Dense(64, activation='tanh'),\n",
    "                      Dense(10, activation='softmax'),\n",
    "                      ])\n",
    "# сохраняем ее веса (это начальная точка) model.save_weights('model.h5')\n",
    "model.save_weights('model.h5')\n",
    "\n",
    "plt.figure(figsize=(16,7))\n",
    "\n",
    "# число рабочих эпох\n",
    "epochs = 15\n",
    "# вектор для выводв результатов\n",
    "epoch = np.arange(epochs+1)\n",
    "\n",
    "# будем изменять оптимизаторы\n",
    "\n",
    "#opt_list = [keras.optimizers.SGD( ),keras.optimizers.Adam( ),keras.optimizers.Nadam( )]\n",
    "for i_optim in ['SGD','RMSProp','adam','NAdam']:\n",
    "  # создаем рабочую модель modeli куда будем загружать эти вес (она должна быть идентичной структуры)\n",
    "  modeli = Sequential([\n",
    "                      Dense(64, activation='relu', input_shape=(784,)),\n",
    "                      Dense(64, activation='tanh'),\n",
    "                      Dense(10, activation='softmax'),\n",
    "                      ])\n",
    "  # загружаем веса modeli.load_weights('model.h5')\n",
    "  modeli.load_weights('model.h5')\n",
    "  # компилируем modeli с одним из оптимизаторов\n",
    "  modeli.compile(\n",
    "      optimizer=i_optim,\n",
    "      loss='categorical_crossentropy',\n",
    "      metrics=['accuracy'],\n",
    "      )\n",
    "  # вычисляем ошибку для modeli без обучения\n",
    "  hh0_tr = modeli.evaluate(  train_images[:48000,:], to_categorical(train_labels[:48000]),verbose = 0)\n",
    "  hh0_val = modeli.evaluate(  train_images[48000:,:], to_categorical(train_labels[48000:]),verbose = 0)\n",
    "  # проводим обучение модели \n",
    "  hh = modeli.fit(\n",
    "                  train_images,\n",
    "                  to_categorical(train_labels),\n",
    "                  epochs=epochs,\n",
    "                  batch_size=32, validation_split=0.2, verbose = 0\n",
    "                  )\n",
    "  # картинки\n",
    "  plt.plot(epoch,np.log([hh0_tr[0]]+hh.history['loss']),'-',label = modeli.optimizer.get_config()['name']+' train')\n",
    "  plt.plot(epoch,np.log([hh0_val[0]]+hh.history['val_loss']),'--',label = modeli.optimizer.get_config()['name']+' val')\n",
    "plt.legend()\n",
    "plt.grid('On')\n",
    "\n",
    "plt.title('нейросети от оптимизатора log(loss)')\n",
    "plt.xlabel('epoch')\n",
    "plt.ylabel('log(loss)')\n",
    "plt.show()\n"
   ]
  },
  {
   "cell_type": "code",
   "execution_count": 48,
   "metadata": {
    "colab": {
     "base_uri": "https://localhost:8080/"
    },
    "id": "viS_E5s6z2UU",
    "outputId": "84d93e5d-7dc1-417e-89a8-8c07aa83ec7a"
   },
   "outputs": [
    {
     "data": {
      "text/plain": [
       "{'name': 'Nadam',\n",
       " 'learning_rate': 0.001,\n",
       " 'decay': 0.004,\n",
       " 'beta_1': 0.9,\n",
       " 'beta_2': 0.999,\n",
       " 'epsilon': 1e-07}"
      ]
     },
     "execution_count": 48,
     "metadata": {},
     "output_type": "execute_result"
    }
   ],
   "source": [
    " modeli.optimizer.get_config()"
   ]
  },
  {
   "cell_type": "markdown",
   "metadata": {
    "id": "eUVhmimFvp-k"
   },
   "source": [
    "Посмотрим на результат предсказаний  (inference) для обученной модели (последняя в цикле)"
   ]
  },
  {
   "cell_type": "code",
   "execution_count": 49,
   "metadata": {
    "colab": {
     "base_uri": "https://localhost:8080/",
     "height": 137
    },
    "id": "wj7fhqd3FKFe",
    "outputId": "7766e1ed-dad9-4b70-fc1c-4a9bdf027971"
   },
   "outputs": [
    {
     "data": {
      "image/png": "[encoded data removed]",
      "text/plain": [
       "<Figure size 1944x360 with 9 Axes>"
      ]
     },
     "metadata": {
      "needs_background": "light"
     },
     "output_type": "display_data"
    }
   ],
   "source": [
    "N = 9\n",
    "y_pred = model1.predict(test_images[:N,:])\n",
    "y_pred_class = np.argmax(y_pred,axis=1)\n",
    "plt.figure(figsize =(3*N,5))\n",
    "for i in range(N):\n",
    "  plt.subplot(1,N,i+1)\n",
    "  plt.imshow(test_images[i,:].reshape(28,28))\n",
    "  plt.xlabel(str(y_pred_class[i]))\n",
    "plt.show()  "
   ]
  },
  {
   "cell_type": "code",
   "execution_count": 50,
   "metadata": {
    "colab": {
     "base_uri": "https://localhost:8080/"
    },
    "id": "Q561c6eaGxcB",
    "outputId": "cba0de8b-096e-4631-c9bc-12d10b0269ef"
   },
   "outputs": [
    {
     "data": {
      "text/plain": [
       "array([7, 2, 1, 0, 4, 1, 4, 9, 5], dtype=int64)"
      ]
     },
     "execution_count": 50,
     "metadata": {},
     "output_type": "execute_result"
    }
   ],
   "source": [
    "y_pred_class"
   ]
  },
  {
   "cell_type": "markdown",
   "metadata": {
    "id": "ws3OtgYMfpXI"
   },
   "source": [
    "Вариант синтаксиса:"
   ]
  },
  {
   "cell_type": "code",
   "execution_count": 51,
   "metadata": {
    "colab": {
     "base_uri": "https://localhost:8080/"
    },
    "id": "IvO2kuDRerfX",
    "outputId": "c8085f87-d588-48ec-bc8d-f4fdb6cec621"
   },
   "outputs": [
    {
     "data": {
      "text/plain": [
       "array([7, 2, 1, ..., 4, 5, 6], dtype=int64)"
      ]
     },
     "execution_count": 51,
     "metadata": {},
     "output_type": "execute_result"
    }
   ],
   "source": [
    "y_predi = model1(test_images[:,:])\n",
    "np.argmax(y_predi,axis=1)"
   ]
  },
  {
   "cell_type": "markdown",
   "metadata": {
    "id": "5yqdlhIxo3UB"
   },
   "source": [
    "Где ошиблись?"
   ]
  },
  {
   "cell_type": "code",
   "execution_count": 52,
   "metadata": {
    "colab": {
     "base_uri": "https://localhost:8080/"
    },
    "id": "EREg7l6YUK7P",
    "outputId": "0fc2709f-852c-4cbb-f67a-123f8ed6d81b"
   },
   "outputs": [
    {
     "data": {
      "text/plain": [
       "array([ 149,  151,  241,  247,  259,  320,  340,  381,  445,  447,  449,\n",
       "        495,  582,  583,  619,  659,  691,  707,  717,  720,  740,  844,\n",
       "        874,  900,  924,  938,  951,  965, 1014, 1032, 1044, 1112, 1182,\n",
       "       1226, 1228, 1232, 1247, 1253, 1260, 1283, 1289, 1319, 1326, 1328,\n",
       "       1378, 1393, 1414, 1464, 1500, 1522, 1527, 1530, 1549, 1553, 1609,\n",
       "       1671, 1681, 1709, 1717, 1737, 1751, 1754, 1790, 1850, 1878, 1901,\n",
       "       1911, 1940, 1941, 1952, 1984, 2016, 2024, 2040, 2044, 2053, 2073,\n",
       "       2098, 2109, 2118, 2129, 2130, 2135, 2182, 2224, 2266, 2272, 2293,\n",
       "       2329, 2369, 2387, 2414, 2488, 2607, 2648, 2654, 2810, 2863, 2877,\n",
       "       2921, 2939, 2953, 2995, 3030, 3060, 3073, 3117, 3251, 3289, 3405,\n",
       "       3422, 3457, 3503, 3520, 3533, 3549, 3558, 3567, 3597, 3674, 3681,\n",
       "       3749, 3751, 3767, 3776, 3780, 3806, 3808, 3811, 3818, 3838, 3853,\n",
       "       3869, 3871, 3893, 3906, 3941, 3968, 3976, 3985, 3995, 4065, 4078,\n",
       "       4093, 4140, 4152, 4163, 4176, 4199, 4201, 4224, 4248, 4259, 4271,\n",
       "       4289, 4300, 4306, 4344, 4355, 4374, 4435, 4437, 4497, 4536, 4567,\n",
       "       4571, 4601, 4615, 4690, 4731, 4740, 4807, 4814, 4823, 4880, 4956,\n",
       "       4966, 4990, 5331, 5457, 5495, 5600, 5634, 5642, 5655, 5734, 5835,\n",
       "       5842, 5887, 5937, 5955, 5972, 5973, 5982, 6045, 6059, 6071, 6166,\n",
       "       6505, 6555, 6557, 6564, 6597, 6651, 6706, 6765, 6783, 6926, 7216,\n",
       "       7233, 7545, 7713, 7899, 7921, 8020, 8094, 8183, 8255, 8272, 8311,\n",
       "       8325, 8408, 8519, 8520, 8522, 9009, 9015, 9019, 9024, 9280, 9482,\n",
       "       9513, 9587, 9634, 9642, 9664, 9669, 9679, 9692, 9698, 9700, 9719,\n",
       "       9729, 9745, 9749, 9768, 9770, 9779, 9792, 9808, 9858, 9944, 9975,\n",
       "       9980, 9982], dtype=int64)"
      ]
     },
     "execution_count": 52,
     "metadata": {},
     "output_type": "execute_result"
    }
   ],
   "source": [
    "yy = np.argmax(y_predi,axis=1)\n",
    "np.where(testn_labels != yy)[0]"
   ]
  },
  {
   "cell_type": "markdown",
   "metadata": {
    "id": "NRSQbmXD9U98"
   },
   "source": [
    "## Практическое задание\n",
    "\n",
    "Используем набор примеров fashion-MNIST\n",
    "\n",
    "1.  Опишите - какой результата получен в нейросети в зависимости от:\n",
    "  -  числа нейронов в слое(для 2-хслойной сети), \n",
    "  - числа слоев (2, 3, 5, 10) при близких размерах сети (близкое число тренируемых парметров).\n",
    "  - фиксируйте для тренировочного и тестового набора метрики accuracy.\n",
    "2.  Проверьте работу разных оптимизаторов (SGD, Adam, RMSProp) для одной из моделей п.1.Фиксируйте для тренировочного и тестового набора метрики accuracy.\n",
    "\n",
    "3. Сделайте вывод - что помогло вам улучшить качество классификации в нейросети на тестовом наборе? \n",
    "\n",
    "4. Для одного варианта сетей сформируйте матрицу ошибок по классам. Оцените качество модели по каждому классу отдельно (полнота , точность). Сделайте вывод."
   ]
  },
  {
   "cell_type": "markdown",
   "metadata": {
    "id": "HN8DNX38v4JC"
   },
   "source": [
    "Загрузка Fashion_MNIST"
   ]
  },
  {
   "cell_type": "code",
   "execution_count": 53,
   "metadata": {
    "id": "lzui-f-AMxXM"
   },
   "outputs": [],
   "source": [
    "from keras.datasets import fashion_mnist"
   ]
  },
  {
   "cell_type": "code",
   "execution_count": 54,
   "metadata": {
    "colab": {
     "base_uri": "https://localhost:8080/"
    },
    "id": "cnrrzpi6NBLV",
    "outputId": "00a85224-5119-46e1-ce68-8ea774218b46"
   },
   "outputs": [
    {
     "name": "stdout",
     "output_type": "stream",
     "text": [
      "Downloading data from https://storage.googleapis.com/tensorflow/tf-keras-datasets/train-labels-idx1-ubyte.gz\n",
      "32768/29515 [=================================] - 0s 1us/step\n",
      "40960/29515 [=========================================] - 0s 1us/step\n",
      "Downloading data from https://storage.googleapis.com/tensorflow/tf-keras-datasets/train-images-idx3-ubyte.gz\n",
      "26427392/26421880 [==============================] - 2s 0us/step\n",
      "26435584/26421880 [==============================] - 2s 0us/step\n",
      "Downloading data from https://storage.googleapis.com/tensorflow/tf-keras-datasets/t10k-labels-idx1-ubyte.gz\n",
      "16384/5148 [===============================================================================================] - 0s 0s/step\n",
      "Downloading data from https://storage.googleapis.com/tensorflow/tf-keras-datasets/t10k-images-idx3-ubyte.gz\n",
      "4423680/4422102 [==============================] - 1s 0us/step\n",
      "4431872/4422102 [==============================] - 1s 0us/step\n"
     ]
    }
   ],
   "source": [
    "(train_imagef,train_labelf),(test_imagef,test_labelf)=fashion_mnist.load_data()"
   ]
  },
  {
   "cell_type": "code",
   "execution_count": 55,
   "metadata": {
    "colab": {
     "base_uri": "https://localhost:8080/"
    },
    "id": "8x1GhqsXpixY",
    "outputId": "a584c5cf-80cd-4371-9a2c-9bd9e0c0ff89"
   },
   "outputs": [
    {
     "data": {
      "text/plain": [
       "array([    5,     7,    27, ..., 59977, 59981, 59993], dtype=int64)"
      ]
     },
     "execution_count": 55,
     "metadata": {},
     "output_type": "execute_result"
    }
   ],
   "source": [
    "ind=np.where(train_labelf==2)[0]\n",
    "ind"
   ]
  },
  {
   "cell_type": "code",
   "execution_count": 56,
   "metadata": {
    "colab": {
     "base_uri": "https://localhost:8080/",
     "height": 265
    },
    "id": "HgkWr0rjE47r",
    "outputId": "f15b0dd1-5efc-4da6-bfd4-9bd55edec90b"
   },
   "outputs": [
    {
     "data": {
      "image/png": "[encoded data removed]",
      "text/plain": [
       "<Figure size 432x288 with 1 Axes>"
      ]
     },
     "metadata": {
      "needs_background": "light"
     },
     "output_type": "display_data"
    }
   ],
   "source": [
    "#plt.gray()\n",
    "plt.imshow(train_imagef[5,:,:])\n",
    "plt.show()"
   ]
  },
  {
   "cell_type": "code",
   "execution_count": 57,
   "metadata": {},
   "outputs": [
    {
     "name": "stdout",
     "output_type": "stream",
     "text": [
      "(60000, 784)\n",
      "(10000, 784)\n"
     ]
    }
   ],
   "source": [
    "# Normalize the images.\n",
    "train_imagef = (train_imagef / 127) - 1\n",
    "test_imagef = (test_imagef / 127) - 1\n",
    "\n",
    "# Flatten the images.\n",
    "train_images = train_imagef.reshape((-1, 784))\n",
    "test_images = test_imagef.reshape((-1, 784))\n",
    "\n",
    "print(train_images.shape) # (60000, 784)\n",
    "print(test_images.shape)  # (10000, 784)"
   ]
  },
  {
   "cell_type": "code",
   "execution_count": 64,
   "metadata": {},
   "outputs": [
    {
     "data": {
      "text/plain": [
       "array([0, 1, 2, 3, 4, 5, 6, 7, 8, 9], dtype=uint8)"
      ]
     },
     "execution_count": 64,
     "metadata": {},
     "output_type": "execute_result"
    }
   ],
   "source": [
    "np.unique(train_labelf)"
   ]
  },
  {
   "cell_type": "code",
   "execution_count": 66,
   "metadata": {},
   "outputs": [],
   "source": [
    "train_labels = train_labelf\n",
    "test_labels = test_labelf"
   ]
  },
  {
   "cell_type": "code",
   "execution_count": 65,
   "metadata": {},
   "outputs": [],
   "source": [
    "model1 = Sequential(name='my_model')\n",
    "model1.add(Dense(    128, activation='relu', input_shape=(784,)))  \n",
    "# входной слой + поносвязный слой из 128 нейронов с активацией ReLU\n",
    "\n",
    "for k in range(2):\n",
    "  model1.add(Dense(  100, activation='tanh')) \n",
    "\n",
    "model1.add(Dense(10, activation='softmax')) \n",
    "# выходной слой из 10 нейронов (сколько классов, столько нейронов) + активация softmax"
   ]
  },
  {
   "cell_type": "code",
   "execution_count": 72,
   "metadata": {},
   "outputs": [
    {
     "data": {
      "image/png": "[encoded data removed]",
      "text/plain": [
       "<Figure size 1152x504 with 1 Axes>"
      ]
     },
     "metadata": {
      "needs_background": "light"
     },
     "output_type": "display_data"
    },
    {
     "name": "stdout",
     "output_type": "stream",
     "text": [
      "Wall time: 1min 52s\n"
     ]
    }
   ],
   "source": [
    "%%time\n",
    "\n",
    "plt.figure(figsize=(16,7))\n",
    "\n",
    "# число рабочих эпох\n",
    "epochs = 15\n",
    "# вектор для выводв результатов\n",
    "epoch = np.arange(epochs+1)\n",
    "\n",
    "for i_num_neurons in [50, 100, 150]:\n",
    "  modeli = Sequential(name='my_model')\n",
    "  modeli.add(Dense(128, activation='relu', input_shape=(784,)))\n",
    "\n",
    "  for k in range(2):\n",
    "      modeli.add(Dense( i_num_neurons, activation='tanh')) \n",
    "  \n",
    "  modeli.add(Dense(10, activation='softmax'))   \n",
    "  modeli.compile(\n",
    "      optimizer='NAdam',\n",
    "      loss='categorical_crossentropy',\n",
    "      metrics=['accuracy'],\n",
    "      )\n",
    "  # вычисляем ошибку для modeli без обучения\n",
    "  hh0_tr = modeli.evaluate(  train_images[:48000,:], to_categorical(train_labels[:48000]),verbose = 0)\n",
    "  hh0_val = modeli.evaluate(  train_images[48000:,:], to_categorical(train_labels[48000:]),verbose = 0)\n",
    "  # проводим обучение модели \n",
    "  hh = modeli.fit(\n",
    "                  train_images,\n",
    "                  to_categorical(train_labels),\n",
    "                  epochs=epochs,\n",
    "                  batch_size=32, validation_split=0.2, verbose = 0\n",
    "                  )\n",
    "  # картинки\n",
    "  plt.plot(epoch,np.log([hh0_tr[0]]+hh.history['loss']),'-',label = f'{i_num_neurons}'+' train')\n",
    "  plt.plot(epoch,np.log([hh0_val[0]]+hh.history['val_loss']),'--',label = f'{i_num_neurons}'+' val')\n",
    "plt.legend()\n",
    "plt.grid('On')\n",
    "\n",
    "plt.title('нейросети от количества нейронов в слое')\n",
    "plt.xlabel('epoch')\n",
    "plt.ylabel('log(loss)')\n",
    "plt.show()"
   ]
  },
  {
   "cell_type": "code",
   "execution_count": 73,
   "metadata": {},
   "outputs": [
    {
     "data": {
      "image/png": "[encoded data removed]",
      "text/plain": [
       "<Figure size 1152x504 with 1 Axes>"
      ]
     },
     "metadata": {
      "needs_background": "light"
     },
     "output_type": "display_data"
    },
    {
     "name": "stdout",
     "output_type": "stream",
     "text": [
      "Wall time: 2min 44s\n"
     ]
    }
   ],
   "source": [
    "%%time\n",
    "\n",
    "plt.figure(figsize=(16,7))\n",
    "\n",
    "# число рабочих эпох\n",
    "epochs = 15\n",
    "# вектор для выводв результатов\n",
    "epoch = np.arange(epochs+1)\n",
    "\n",
    "for i_num_layers in [2, 3, 5, 10]:\n",
    "  modeli = Sequential(name='my_model')\n",
    "  modeli.add(Dense(128, activation='relu', input_shape=(784,)))\n",
    "\n",
    "  for k in range(i_num_layers):\n",
    "      modeli.add(Dense( 50, activation='tanh')) \n",
    "  \n",
    "  modeli.add(Dense(10, activation='softmax'))   \n",
    "  modeli.compile(\n",
    "      optimizer='NAdam',\n",
    "      loss='categorical_crossentropy',\n",
    "      metrics=['accuracy'],\n",
    "      )\n",
    "  # вычисляем ошибку для modeli без обучения\n",
    "  hh0_tr = modeli.evaluate(  train_images[:48000,:], to_categorical(train_labels[:48000]),verbose = 0)\n",
    "  hh0_val = modeli.evaluate(  train_images[48000:,:], to_categorical(train_labels[48000:]),verbose = 0)\n",
    "  # проводим обучение модели \n",
    "  hh = modeli.fit(\n",
    "                  train_images,\n",
    "                  to_categorical(train_labels),\n",
    "                  epochs=epochs,\n",
    "                  batch_size=32, validation_split=0.2, verbose = 0\n",
    "                  )\n",
    "  # картинки\n",
    "  plt.plot(epoch,np.log([hh0_tr[0]]+hh.history['loss']),'-',label = f'{i_num_layers}'+' train')\n",
    "  plt.plot(epoch,np.log([hh0_val[0]]+hh.history['val_loss']),'--',label = f'{i_num_layers}'+' val')\n",
    "plt.legend()\n",
    "plt.grid('On')\n",
    "\n",
    "plt.title('нейросети от количества слоёв в модели')\n",
    "plt.xlabel('epoch')\n",
    "plt.ylabel('log(loss)')\n",
    "plt.show()"
   ]
  },
  {
   "cell_type": "code",
   "execution_count": 74,
   "metadata": {},
   "outputs": [
    {
     "data": {
      "image/png": "[encoded data removed]",
      "text/plain": [
       "<Figure size 1152x504 with 1 Axes>"
      ]
     },
     "metadata": {
      "needs_background": "light"
     },
     "output_type": "display_data"
    },
    {
     "name": "stdout",
     "output_type": "stream",
     "text": [
      "Wall time: 1min 28s\n"
     ]
    }
   ],
   "source": [
    "%%time\n",
    "\n",
    "plt.figure(figsize=(16,7))\n",
    "\n",
    "# число рабочих эпох\n",
    "epochs = 15\n",
    "# вектор для выводв результатов\n",
    "epoch = np.arange(epochs+1)\n",
    "\n",
    "for i_optimizer in ['SGD', 'Adam', 'RMSprop']:\n",
    "  modeli = Sequential(name='my_model')\n",
    "  modeli.add(Dense(128, activation='relu', input_shape=(784,)))\n",
    "\n",
    "  for k in range(2):\n",
    "      modeli.add(Dense( 50, activation='tanh')) \n",
    "  \n",
    "  modeli.add(Dense(10, activation='softmax'))   \n",
    "  modeli.compile(\n",
    "      optimizer=i_optimizer,\n",
    "      loss='categorical_crossentropy',\n",
    "      metrics=['accuracy'],\n",
    "      )\n",
    "  # вычисляем ошибку для modeli без обучения\n",
    "  hh0_tr = modeli.evaluate(  train_images[:48000,:], to_categorical(train_labels[:48000]),verbose = 0)\n",
    "  hh0_val = modeli.evaluate(  train_images[48000:,:], to_categorical(train_labels[48000:]),verbose = 0)\n",
    "  # проводим обучение модели \n",
    "  hh = modeli.fit(\n",
    "                  train_images,\n",
    "                  to_categorical(train_labels),\n",
    "                  epochs=epochs,\n",
    "                  batch_size=32, validation_split=0.2, verbose = 0\n",
    "                  )\n",
    "  # картинки\n",
    "  plt.plot(epoch,np.log([hh0_tr[0]]+hh.history['loss']),'-',label = i_optimizer +' train')\n",
    "  plt.plot(epoch,np.log([hh0_val[0]]+hh.history['val_loss']),'--',label = i_optimizer +' val')\n",
    "plt.legend()\n",
    "plt.grid('On')\n",
    "\n",
    "plt.title('нейросети от оптимизаторов')\n",
    "plt.xlabel('epoch')\n",
    "plt.ylabel('log(loss)')\n",
    "plt.show()"
   ]
  },
  {
   "cell_type": "markdown",
   "metadata": {},
   "source": [
    "Вывод: количество нейронов особо не помогло, количество слоёв - тоже (что намекает, что сложность сети и на минимальных параметрах уже сравнима со сложностью рассматриваемого датасета). \n",
    "\n",
    "Помог старый добрый SGD, который устойчив к переобучению."
   ]
  },
  {
   "cell_type": "code",
   "execution_count": 77,
   "metadata": {},
   "outputs": [
    {
     "data": {
      "text/plain": [
       "<keras.callbacks.History at 0x2b08aec8d90>"
      ]
     },
     "execution_count": 77,
     "metadata": {},
     "output_type": "execute_result"
    }
   ],
   "source": [
    "model = Sequential(name='my_model')\n",
    "model.add(Dense(128, activation='relu', input_shape=(784,)))\n",
    "\n",
    "for k in range(2):\n",
    "   model.add(Dense( 50, activation='tanh')) \n",
    "  \n",
    "model.add(Dense(10, activation='softmax'))   \n",
    "model.compile(\n",
    "      optimizer='SGD',\n",
    "      loss='categorical_crossentropy',\n",
    "      metrics=['accuracy'],\n",
    "      )\n",
    "\n",
    "model.fit(\n",
    "                  train_images,\n",
    "                  to_categorical(train_labels),\n",
    "                  epochs=epochs,\n",
    "                  batch_size=32, validation_split=0.2, verbose = 0\n",
    "                  )"
   ]
  },
  {
   "cell_type": "code",
   "execution_count": 78,
   "metadata": {},
   "outputs": [],
   "source": [
    "predictions = model.predict(test_images)"
   ]
  },
  {
   "cell_type": "code",
   "execution_count": 80,
   "metadata": {},
   "outputs": [
    {
     "data": {
      "text/plain": [
       "array([9, 2, 1, ..., 8, 1, 5], dtype=int64)"
      ]
     },
     "execution_count": 80,
     "metadata": {},
     "output_type": "execute_result"
    }
   ],
   "source": [
    "predictions.argmax(axis=1)"
   ]
  },
  {
   "cell_type": "code",
   "execution_count": 81,
   "metadata": {},
   "outputs": [
    {
     "data": {
      "text/plain": [
       "array([9, 2, 1, ..., 8, 1, 5], dtype=uint8)"
      ]
     },
     "execution_count": 81,
     "metadata": {},
     "output_type": "execute_result"
    }
   ],
   "source": [
    "test_labelf"
   ]
  },
  {
   "cell_type": "code",
   "execution_count": 83,
   "metadata": {
    "scrolled": true
   },
   "outputs": [
    {
     "data": {
      "text/plain": [
       "<tf.Tensor: shape=(10, 10), dtype=int32, numpy=\n",
       "array([[836,   0,  14,  47,   2,   3,  79,   0,  19,   0],\n",
       "       [  0, 962,   3,  29,   4,   0,   1,   0,   1,   0],\n",
       "       [ 15,   1, 787,  20, 130,   1,  41,   0,   5,   0],\n",
       "       [ 19,   3,  13, 927,  17,   0,  18,   0,   3,   0],\n",
       "       [  0,   1,  98,  55, 814,   0,  29,   0,   3,   0],\n",
       "       [  0,   0,   0,   1,   0, 962,   0,  18,   1,  18],\n",
       "       [140,   1,  96,  46, 112,   0, 588,   0,  17,   0],\n",
       "       [  0,   0,   0,   0,   0,  39,   0, 919,   1,  41],\n",
       "       [  4,   1,   1,   6,   3,   5,   7,   3, 970,   0],\n",
       "       [  0,   0,   0,   1,   0,  17,   1,  31,   0, 950]])>"
      ]
     },
     "execution_count": 83,
     "metadata": {},
     "output_type": "execute_result"
    }
   ],
   "source": [
    "from tensorflow.math import confusion_matrix\n",
    "\n",
    "confusion_matrix(test_labelf, predictions.argmax(axis=1))"
   ]
  },
  {
   "cell_type": "code",
   "execution_count": 109,
   "metadata": {},
   "outputs": [
    {
     "data": {
      "text/plain": [
       "array([  0,   0,   0,   0,   0,  18,   0,  41,   0, 950], dtype=int64)"
      ]
     },
     "execution_count": 109,
     "metadata": {},
     "output_type": "execute_result"
    }
   ],
   "source": [
    "confusion_matrix(test_labelf, predictions.argmax(axis=1))[:,9]"
   ]
  },
  {
   "cell_type": "code",
   "execution_count": 113,
   "metadata": {},
   "outputs": [
    {
     "data": {
      "text/plain": [
       "{'Precision': [0.82, 0.99, 0.78, 0.82, 0.75, 0.94, 0.77, 0.95, 0.95, 0.94],\n",
       " 'Recall': [0.84, 0.96, 0.79, 0.93, 0.81, 0.96, 0.59, 0.92, 0.97, 0.95]}"
      ]
     },
     "execution_count": 113,
     "metadata": {},
     "output_type": "execute_result"
    }
   ],
   "source": [
    "cm = confusion_matrix(test_labelf, predictions.argmax(axis=1))\n",
    "\n",
    "metric_dict = {'Precision':[], 'Recall':[]}\n",
    "\n",
    "classes = cm.shape[0]\n",
    "\n",
    "for i in range(classes):\n",
    "    metric_dict['Recall'].append(round(cm[i,i]/(cm[i].sum()),2))\n",
    "    metric_dict['Precision'].append(round(cm[i,i]/(cm[:,i].sum()),2))\n",
    "    \n",
    "\n",
    "metric_dict"
   ]
  },
  {
   "cell_type": "markdown",
   "metadata": {},
   "source": [
    "Вывод: (считая с нуля) класс 1 предсказывается хорошо, класс 4 - не очень, класс 6 - очень не очень."
   ]
  },
  {
   "cell_type": "markdown",
   "metadata": {
    "id": "m2wW13WB9U99"
   },
   "source": [
    "## Дополнительные материалы\n",
    "\n",
    "<ol>\n",
    "    <li> https://keras.io/</li>\n",
    "    <li> https://playground.tensorflow.org/ - визуализация сетей \n",
    "</ol>"
   ]
  },
  {
   "cell_type": "markdown",
   "metadata": {
    "id": "v6h1K5ET9U9_"
   },
   "source": [
    "## Используемая литература \n",
    "\n",
    "Для подготовки данного методического пособия были использованы следующие ресурсы:\n",
    "<ol>\n",
    "    <li>https://keras.io/</li>\n",
    "    <li>Шакла Н. — Машинное обучение и TensorFlow 2019</li>\n",
    "    <li>Саймон Хайкин — Нейронные сети: полный курс</li>\n",
    "    <li>Википедия</li>\n",
    "    \n",
    "</ol>"
   ]
  }
 ],
 "metadata": {
  "accelerator": "GPU",
  "colab": {
   "collapsed_sections": [
    "NRSQbmXD9U98",
    "m2wW13WB9U99",
    "v6h1K5ET9U9_"
   ],
   "name": "metodich2_collab.ipynb",
   "provenance": []
  },
  "kernelspec": {
   "display_name": "Python 3 (ipykernel)",
   "language": "python",
   "name": "python3"
  },
  "language_info": {
   "codemirror_mode": {
    "name": "ipython",
    "version": 3
   },
   "file_extension": ".py",
   "mimetype": "text/x-python",
   "name": "python",
   "nbconvert_exporter": "python",
   "pygments_lexer": "ipython3",
   "version": "3.9.7"
  }
 },
 "nbformat": 4,
 "nbformat_minor": 1
}
