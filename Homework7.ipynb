{
 "cells": [
  {
   "cell_type": "markdown",
   "id": "a20c3020",
   "metadata": {},
   "source": [
    "Сделайте краткий обзор любой статьи посвященной тому или иному алгоритму для object detection, который не рассматривался на уроке. Проведите анализ: Чем отличается выбранная вами на рассмотрение архитектура нейронной сети от других архитектур? В чем плюсы и минусы данной архитектуры? Какие могут возникнуть трудности при применении данной архитектуры на практике?\n",
    "\n",
    "Запустите детектор (ssdMobile_v2 или faster_rcnn, или любой другой детектор) для своей картинки и попробуйте найти 10 объектов, 100 объектов."
   ]
  },
  {
   "cell_type": "markdown",
   "id": "7b282caa",
   "metadata": {},
   "source": [
    "Исходная статья: https://arxiv.org/pdf/2105.04206.pdf\n",
    "Алгоритм: YOLOR\n",
    "Сурс: https://github.com/WongKinYiu/yolor\n",
    "\n",
    "Кратко: вариант модели YOLO, в котором используется принцип заранее выведенного скрытого знания (\"implicit knowledge\") о той или иной категории объектов для уменьшения времени и количества примеров, нужного для обучения произвольной сети на распознавание данной категории объектов.\n",
    "\n",
    "Плюс: если у нас есть модель implicit knowledge для нужной категории - можно не тратить много времени и не подыскивать много примеров для тренировки сети.\n",
    "\n",
    "Минус: да где это implicit knowledge взять-то? Если для нужной категории его заранее нет - его придётся выводить. Кроме того, implicit knowledge - ещё одно потенциальное слабое место для атаки \"отравлением данных\", которая может задеть уже не одну модель, а все модели, пользующиеся данным implicit knowledge."
   ]
  },
  {
   "cell_type": "code",
   "execution_count": 2,
   "id": "64a0d0e1",
   "metadata": {},
   "outputs": [],
   "source": [
    "from __future__ import absolute_import, division, print_function, unicode_literals\n",
    "\n",
    "import tensorflow as tf\n",
    "import tensorflow_hub as hub\n",
    "\n",
    "import matplotlib.pyplot as plt\n",
    "import tempfile\n",
    "from six.moves.urllib.request import urlopen\n",
    "from six import BytesIO\n",
    "\n",
    "import numpy as np\n",
    "from PIL import Image\n",
    "from PIL import ImageColor\n",
    "from PIL import ImageDraw\n",
    "from PIL import ImageFont\n",
    "from PIL import ImageOps\n",
    "\n",
    "import time\n",
    "%matplotlib inline"
   ]
  },
  {
   "cell_type": "code",
   "execution_count": 3,
   "id": "0271886e",
   "metadata": {},
   "outputs": [],
   "source": [
    "def load_img(path):\n",
    "  img = tf.io.read_file(path)\n",
    "  img = tf.image.decode_jpeg(img, channels=3)\n",
    "  return img\n",
    "\n",
    "def run_detector(detector, path, max_boxes=10):\n",
    "  img = load_img(path)\n",
    "\n",
    "  converted_img  = tf.image.convert_image_dtype(img, tf.float32)[tf.newaxis, ...]\n",
    "  start_time = time.time()\n",
    "  result = detector(converted_img)\n",
    "  end_time = time.time()\n",
    "  #print(result['detection_scores'])\n",
    "  result = {key:value.numpy() for key,value in result.items()} \n",
    "\n",
    "  image_with_boxes = draw_boxes(\n",
    "      img.numpy(), result[\"detection_boxes\"],\n",
    "      result[\"detection_class_entities\"], result[\"detection_scores\"], max_boxes=max_boxes)\n",
    "\n",
    "  display_image(image_with_boxes)\n",
    "  return result"
   ]
  },
  {
   "cell_type": "code",
   "execution_count": 4,
   "id": "0c840111",
   "metadata": {},
   "outputs": [
    {
     "name": "stdout",
     "output_type": "stream",
     "text": [
      "INFO:tensorflow:Saver not created because there are no variables in the graph to restore\n"
     ]
    },
    {
     "name": "stderr",
     "output_type": "stream",
     "text": [
      "INFO:tensorflow:Saver not created because there are no variables in the graph to restore\n"
     ]
    }
   ],
   "source": [
    "module_handle = \"https://tfhub.dev/google/faster_rcnn/openimages_v4/inception_resnet_v2/1\" #@param [\"https://tfhub.dev/google/openimages_v4/ssd/mobilenet_v2/1\", \"https://tfhub.dev/google/faster_rcnn/openimages_v4/inception_resnet_v2/1\"]\n",
    "\n",
    "detector = hub.load(module_handle).signatures['default']"
   ]
  },
  {
   "cell_type": "code",
   "execution_count": 5,
   "id": "73de2661",
   "metadata": {},
   "outputs": [
    {
     "data": {
      "text/plain": [
       "array('./725102.jpg', dtype='<U12')"
      ]
     },
     "execution_count": 5,
     "metadata": {},
     "output_type": "execute_result"
    }
   ],
   "source": [
    "import os, fnmatch\n",
    "root_path = './'\n",
    "listOfFiles = os.listdir(root_path)\n",
    "pattern = '*.jpg'\n",
    "List_name=[]\n",
    "for entry in listOfFiles:\n",
    "    if fnmatch.fnmatch(entry, pattern):\n",
    "            List_name.append(np.array(root_path+entry))\n",
    "List_name[0]"
   ]
  },
  {
   "cell_type": "code",
   "execution_count": null,
   "id": "788cb3d5",
   "metadata": {},
   "outputs": [],
   "source": [
    "result = run_detector(detector, List_name[0], max_boxes=100)"
   ]
  },
  {
   "cell_type": "markdown",
   "id": "31e271cd",
   "metadata": {},
   "source": [
    "При попытке найти 100 объектов на большом изображении ядро закономерно умирает -_-"
   ]
  }
 ],
 "metadata": {
  "kernelspec": {
   "display_name": "Python 3 (ipykernel)",
   "language": "python",
   "name": "python3"
  },
  "language_info": {
   "codemirror_mode": {
    "name": "ipython",
    "version": 3
   },
   "file_extension": ".py",
   "mimetype": "text/x-python",
   "name": "python",
   "nbconvert_exporter": "python",
   "pygments_lexer": "ipython3",
   "version": "3.9.7"
  }
 },
 "nbformat": 4,
 "nbformat_minor": 5
}
